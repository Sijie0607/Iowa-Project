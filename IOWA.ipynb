{
 "cells": [
  {
   "metadata": {},
   "cell_type": "markdown",
   "source": "# The Universality of IOWA —— Parking patterns and Resource Allocation",
   "id": "7e3f88f6dc61f0a2"
  },
  {
   "metadata": {
    "collapsed": true,
    "ExecuteTime": {
     "end_time": "2025-05-19T16:53:34.602369Z",
     "start_time": "2025-05-19T16:53:34.600832Z"
    }
   },
   "cell_type": "code",
   "outputs": [],
   "execution_count": 1,
   "source": [
    "import pandas as pd\n",
    "import numpy as np\n",
    "import matplotlib.pyplot as plt\n",
    "import seaborn as sns"
   ],
   "id": "initial_id"
  },
  {
   "metadata": {
    "ExecuteTime": {
     "end_time": "2025-05-19T19:52:07.236962Z",
     "start_time": "2025-05-19T19:52:05.785595Z"
    }
   },
   "cell_type": "code",
   "source": "df = pd.read_csv('/Users/sijieliu/Desktop/Data Practice/CardTransaction.csv')\n",
   "id": "11a018b015d587aa",
   "outputs": [],
   "execution_count": 32
  },
  {
   "metadata": {
    "ExecuteTime": {
     "end_time": "2025-05-19T19:52:08.232087Z",
     "start_time": "2025-05-19T19:52:07.740738Z"
    }
   },
   "cell_type": "code",
   "source": [
    "df['EntranceTime'] = pd.to_datetime(df['EntranceTime'], errors='coerce')\n",
    "df['ExitTime'] = pd.to_datetime(df['ExitTime'], errors='coerce')\n",
    "df['EntranceTime'] = df['EntranceTime'].dt.floor('s')\n",
    "df['ExitTime'] = df['ExitTime'].dt.floor('s')"
   ],
   "id": "7034f7b8496be19c",
   "outputs": [],
   "execution_count": 33
  },
  {
   "metadata": {},
   "cell_type": "markdown",
   "source": [
    "## Data Preprocess\n",
    "\n"
   ],
   "id": "b53f8fcc98555b30"
  },
  {
   "metadata": {
    "ExecuteTime": {
     "end_time": "2025-05-19T19:54:41.831460Z",
     "start_time": "2025-05-19T19:54:14.517420Z"
    }
   },
   "cell_type": "code",
   "source": [
    "# Fill EntranceTime with ExitTime 12:00 AM on the same day\n",
    "df['EntranceTime'] = df.apply(\n",
    "    lambda row: pd.Timestamp.combine(row['ExitTime'].date(), pd.to_datetime('00:00:00').time())\n",
    "    if pd.isnull(row['EntranceTime']) and not pd.isnull(row['ExitTime'])\n",
    "    else row['EntranceTime'],\n",
    "    axis=1\n",
    ")\n",
    "\n",
    "# Fill ExitTime with EntranceTime of the current day at 23:59:59\n",
    "df['ExitTime'] = df.apply(\n",
    "    lambda row: pd.Timestamp.combine(row['EntranceTime'].date(), pd.to_datetime('23:59:59').time())\n",
    "    if pd.isnull(row['ExitTime']) and not pd.isnull(row['EntranceTime'])\n",
    "    else row['ExitTime'],\n",
    "    axis=1\n",
    ")\n"
   ],
   "id": "1f8d4de2673ccfbb",
   "outputs": [],
   "execution_count": 37
  },
  {
   "metadata": {},
   "cell_type": "markdown",
   "source": "### Vehicle entry trends",
   "id": "46db5e57bf83e60e"
  },
  {
   "metadata": {
    "ExecuteTime": {
     "end_time": "2025-05-20T01:52:24.432280Z",
     "start_time": "2025-05-20T01:52:23.604984Z"
    }
   },
   "cell_type": "code",
   "source": [
    "#1. Discretize the time by dividing the 24 hours of a day into hourly intervals\n",
    "def get_time_slot(hour):\n",
    "    hour =int(hour)\n",
    "    return f\"{hour:02d}:00 - {hour+1:02d}:00\"\n",
    "\n",
    "df['Hour'] = df['EntranceTime'].dt.hour\n",
    "df['EntranceTimeSlot'] = df['Hour'].apply(get_time_slot)\n",
    "df['Date'] = df['EntranceTime'].dt.date"
   ],
   "id": "6a1c9f68d01072ab",
   "outputs": [],
   "execution_count": 102
  },
  {
   "metadata": {
    "ExecuteTime": {
     "end_time": "2025-05-20T01:53:13.067914Z",
     "start_time": "2025-05-20T01:53:12.840932Z"
    }
   },
   "cell_type": "code",
   "source": [
    "#2.Count every record of using the card during the set time period\n",
    "usage_by_day_entranceslot = df.groupby(['Date', 'EntranceTimeSlot']).size().reset_index(name='Usage')\n",
    "\n",
    "#3. Find the peak entrance time of each day\n",
    "daily_peak_entranceslot = usage_by_day_entranceslot.sort_values(['Date', 'Usage'], ascending=[True, False]).drop_duplicates('Date')\n",
    "\n",
    "#4. Count the frequency of these peak periods in the whole\n",
    "peak_entrance_slot_distribution = daily_peak_entranceslot['EntranceTimeSlot'].value_counts().reset_index()\n",
    "peak_entrance_slot_distribution.columns = ['EntranceTimeSlot', 'PeakDaysCount']\n"
   ],
   "id": "ec561df165dc6af3",
   "outputs": [],
   "execution_count": 105
  },
  {
   "metadata": {
    "ExecuteTime": {
     "end_time": "2025-05-20T02:18:46.792848Z",
     "start_time": "2025-05-20T02:18:46.766895Z"
    }
   },
   "cell_type": "code",
   "source": "peak_entrance_slot_distribution",
   "id": "82785a5825175bfd",
   "outputs": [
    {
     "data": {
      "text/plain": [
       "   EntranceTimeSlot  PeakDaysCount\n",
       "0     07:00 - 08:00            673\n",
       "1     06:00 - 07:00            339\n",
       "2     08:00 - 09:00            140\n",
       "3     00:00 - 01:00             19\n",
       "4     05:00 - 06:00              2\n",
       "5     22:00 - 23:00              2\n",
       "6     15:00 - 16:00              1\n",
       "7     12:00 - 13:00              1\n",
       "8     11:00 - 12:00              1\n",
       "9     03:00 - 04:00              1\n",
       "10    10:00 - 11:00              1\n",
       "11    16:00 - 17:00              1"
      ],
      "text/html": [
       "<div>\n",
       "<style scoped>\n",
       "    .dataframe tbody tr th:only-of-type {\n",
       "        vertical-align: middle;\n",
       "    }\n",
       "\n",
       "    .dataframe tbody tr th {\n",
       "        vertical-align: top;\n",
       "    }\n",
       "\n",
       "    .dataframe thead th {\n",
       "        text-align: right;\n",
       "    }\n",
       "</style>\n",
       "<table border=\"1\" class=\"dataframe\">\n",
       "  <thead>\n",
       "    <tr style=\"text-align: right;\">\n",
       "      <th></th>\n",
       "      <th>EntranceTimeSlot</th>\n",
       "      <th>PeakDaysCount</th>\n",
       "    </tr>\n",
       "  </thead>\n",
       "  <tbody>\n",
       "    <tr>\n",
       "      <th>0</th>\n",
       "      <td>07:00 - 08:00</td>\n",
       "      <td>673</td>\n",
       "    </tr>\n",
       "    <tr>\n",
       "      <th>1</th>\n",
       "      <td>06:00 - 07:00</td>\n",
       "      <td>339</td>\n",
       "    </tr>\n",
       "    <tr>\n",
       "      <th>2</th>\n",
       "      <td>08:00 - 09:00</td>\n",
       "      <td>140</td>\n",
       "    </tr>\n",
       "    <tr>\n",
       "      <th>3</th>\n",
       "      <td>00:00 - 01:00</td>\n",
       "      <td>19</td>\n",
       "    </tr>\n",
       "    <tr>\n",
       "      <th>4</th>\n",
       "      <td>05:00 - 06:00</td>\n",
       "      <td>2</td>\n",
       "    </tr>\n",
       "    <tr>\n",
       "      <th>5</th>\n",
       "      <td>22:00 - 23:00</td>\n",
       "      <td>2</td>\n",
       "    </tr>\n",
       "    <tr>\n",
       "      <th>6</th>\n",
       "      <td>15:00 - 16:00</td>\n",
       "      <td>1</td>\n",
       "    </tr>\n",
       "    <tr>\n",
       "      <th>7</th>\n",
       "      <td>12:00 - 13:00</td>\n",
       "      <td>1</td>\n",
       "    </tr>\n",
       "    <tr>\n",
       "      <th>8</th>\n",
       "      <td>11:00 - 12:00</td>\n",
       "      <td>1</td>\n",
       "    </tr>\n",
       "    <tr>\n",
       "      <th>9</th>\n",
       "      <td>03:00 - 04:00</td>\n",
       "      <td>1</td>\n",
       "    </tr>\n",
       "    <tr>\n",
       "      <th>10</th>\n",
       "      <td>10:00 - 11:00</td>\n",
       "      <td>1</td>\n",
       "    </tr>\n",
       "    <tr>\n",
       "      <th>11</th>\n",
       "      <td>16:00 - 17:00</td>\n",
       "      <td>1</td>\n",
       "    </tr>\n",
       "  </tbody>\n",
       "</table>\n",
       "</div>"
      ]
     },
     "execution_count": 119,
     "metadata": {},
     "output_type": "execute_result"
    }
   ],
   "execution_count": 119
  },
  {
   "metadata": {
    "ExecuteTime": {
     "end_time": "2025-05-20T02:20:08.906670Z",
     "start_time": "2025-05-20T02:20:08.879441Z"
    }
   },
   "cell_type": "code",
   "source": [
    "peak_entrance_slot_avg_usage = daily_peak_entranceslot.groupby('EntranceTimeSlot')['Usage'].mean().reset_index()\n",
    "peak_entrance_slot_avg_usage.columns = ['EntranceTimeSlot', 'AvgEntranceCount']\n",
    "\n",
    "\n",
    "final_entrance_summary = pd.merge(peak_entrance_slot_distribution, peak_entrance_slot_avg_usage, on='EntranceTimeSlot')\n",
    "\n",
    "print(final_entrance_summary)"
   ],
   "id": "c42cdd702d107686",
   "outputs": [
    {
     "name": "stdout",
     "output_type": "stream",
     "text": [
      "   EntranceTimeSlot  PeakDaysCount  AvgEntranceCount\n",
      "0     07:00 - 08:00            673        376.423477\n",
      "1     06:00 - 07:00            339        255.032448\n",
      "2     08:00 - 09:00            140        420.750000\n",
      "3     00:00 - 01:00             19         33.684211\n",
      "4     05:00 - 06:00              2          1.000000\n",
      "5     22:00 - 23:00              2         11.000000\n",
      "6     15:00 - 16:00              1          1.000000\n",
      "7     12:00 - 13:00              1          2.000000\n",
      "8     11:00 - 12:00              1          1.000000\n",
      "9     03:00 - 04:00              1          1.000000\n",
      "10    10:00 - 11:00              1          6.000000\n",
      "11    16:00 - 17:00              1          1.000000\n"
     ]
    }
   ],
   "execution_count": 120
  },
  {
   "metadata": {
    "ExecuteTime": {
     "end_time": "2025-05-20T04:19:06.715522Z",
     "start_time": "2025-05-20T04:19:06.527393Z"
    }
   },
   "cell_type": "code",
   "source": [
    "import matplotlib.pyplot as plt\n",
    "import seaborn as sns\n",
    "\n",
    "plt.figure(figsize=(10, 5))\n",
    "sns.barplot(data=final_entrance_summary, x='EntranceTimeSlot', y='AvgEntranceCount')\n",
    "\n",
    "plt.title('Average Entrance Count in Daily Peak Time Slots')\n",
    "plt.xlabel('Entrance Time Slot')\n",
    "plt.ylabel('Average Number of Cars Entering')\n",
    "plt.xticks(rotation=45)\n",
    "plt.tight_layout()\n",
    "plt.show()"
   ],
   "id": "33c35f7f9aff1c7b",
   "outputs": [
    {
     "data": {
      "text/plain": [
       "<Figure size 1000x500 with 1 Axes>"
      ],
      "image/png": "[encoded data removed]"
     },
     "metadata": {},
     "output_type": "display_data"
    }
   ],
   "execution_count": 156
  },
  {
   "metadata": {},
   "cell_type": "markdown",
   "source": "## Analysis of simultaneous parking in daily units",
   "id": "6ed34473eeb13a8d"
  },
  {
   "metadata": {
    "ExecuteTime": {
     "end_time": "2025-05-20T02:04:05.563037Z",
     "start_time": "2025-05-20T01:54:38.390129Z"
    }
   },
   "cell_type": "code",
   "source": [
    "# 1.Set 1h as the time interval\n",
    "time_slots = pd.date_range(\n",
    "    start=df['EntranceTime'].min().floor('D'),\n",
    "    end=df['ExitTime'].max().ceil('D'),\n",
    "    freq='1h'\n",
    ")\n",
    "\n",
    "# 2. Find all covered TimeSlots for each record\n",
    "expanded_records = []\n",
    "\n",
    "for idx, row in df.iterrows():\n",
    "    entrance = row['EntranceTime']\n",
    "    exit_time = row['ExitTime']\n",
    "    current_slots = time_slots[(time_slots >= entrance.floor('D')) & (time_slots < exit_time)]\n",
    "\n",
    "    # Filter the time period actually covered by this vehicle\n",
    "    actual_slots = current_slots[(current_slots >= entrance) & (current_slots < exit_time)]\n",
    "\n",
    "    for slot_start in actual_slots:\n",
    "        expanded_records.append({\n",
    "            'Date': slot_start.date(),\n",
    "            'TimeSlotStart': slot_start.time(),\n",
    "            'CardNumber': row['CardNumber']\n",
    "        })\n",
    "\n",
    "# 3. convert to DataFrame\n",
    "expanded_df = pd.DataFrame(expanded_records)\n",
    "\n",
    "# 4. Count the number of vehicles in each time period every day (de-duplicated CardNumber)\n",
    "usage_summary = expanded_df.groupby(['Date', 'TimeSlotStart'])['CardNumber'].nunique().reset_index(name='OccupiedCars')\n",
    "\n",
    "daily_peak_slot = usage_summary.sort_values(['Date', 'OccupiedCars'], ascending=[True, False]).drop_duplicates('Date')\n",
    "#5.\n",
    "# Count which time periods are most often peak times\n",
    "peak_slot_distribution = daily_peak_slot['TimeSlotStart'].value_counts().reset_index()\n",
    "peak_slot_distribution.columns = ['TimeSlotStart', 'PeakDaysCount']\n",
    "\n",
    "# Sorting time period\n",
    "peak_slot_distribution = peak_slot_distribution.sort_values('TimeSlotStart')\n"
   ],
   "id": "b66859a5d990d0ef",
   "outputs": [],
   "execution_count": 111
  },
  {
   "metadata": {
    "ExecuteTime": {
     "end_time": "2025-05-20T02:29:32.913062Z",
     "start_time": "2025-05-20T02:29:32.895150Z"
    }
   },
   "cell_type": "code",
   "source": [
    "peak_slot_avg_occupancy = daily_peak_slot.groupby('TimeSlotStart')['OccupiedCars'].mean().reset_index()\n",
    "peak_slot_avg_occupancy.columns = ['TimeSlotStart', 'AvgOccupiedCars']\n",
    "\n",
    "\n",
    "final_summary = pd.merge(peak_slot_distribution, peak_slot_avg_occupancy, on='TimeSlotStart')\n"
   ],
   "id": "73555227ae1b8bde",
   "outputs": [],
   "execution_count": 123
  },
  {
   "metadata": {
    "ExecuteTime": {
     "end_time": "2025-05-20T04:24:21.390428Z",
     "start_time": "2025-05-20T04:24:21.350582Z"
    }
   },
   "cell_type": "code",
   "source": [
    "import plotly.express as px\n",
    "\n",
    "fig = px.bar(\n",
    "    peak_slot_distribution,\n",
    "    x='TimeSlotStart',\n",
    "    y='PeakDaysCount',\n",
    "    title='Most Frequent Peak Time Slots',\n",
    "    labels={\n",
    "        'TimeSlotStart': 'Time Slot Start (1-Hour Interval)',\n",
    "        'PeakDaysCount': 'Number of Days as Peak'\n",
    "    },\n",
    "    text='PeakDaysCount'\n",
    ")\n",
    "\n",
    "fig.update_traces(textposition='outside')\n",
    "fig.update_layout(\n",
    "    xaxis_tickangle=-45,\n",
    "    template='plotly_white',\n",
    "    hovermode='x unified'\n",
    ")\n",
    "\n",
    "fig.show()\n"
   ],
   "id": "f2e0dd29b8148b90",
   "outputs": [
    {
     "data": {
      "application/vnd.plotly.v1+json": {
       "data": [
        {
         "hovertemplate": "Time Slot Start (1-Hour Interval)=%{x}<br>Number of Days as Peak=%{text}<extra></extra>",
         "legendgroup": "",
         "marker": {
          "color": "#636efa",
          "pattern": {
           "shape": ""
          }
         },
         "name": "",
         "orientation": "v",
         "showlegend": false,
         "text": {
          "dtype": "f8",
          "bdata": "AAAAAAAAM0AAAAAAAADwPwAAAAAA4GxAAAAAAAAAEEAAAAAAAAAIQAAAAAAAABRAAAAAAAAwgkAAAAAAAMBXQAAAAAAAADZAAAAAAACAYEAAAAAAAEBSQAAAAAAAAAhAAAAAAAAACEAAAAAAAAAmQAAAAAAAABxA"
         },
         "textposition": "outside",
         "x": [
          "00:00:00",
          "06:00:00",
          "07:00:00",
          "08:00:00",
          "09:00:00",
          "10:00:00",
          "11:00:00",
          "12:00:00",
          "13:00:00",
          "14:00:00",
          "15:00:00",
          "16:00:00",
          "17:00:00",
          "19:00:00",
          "23:00:00"
         ],
         "xaxis": "x",
         "y": {
          "dtype": "i2",
          "bdata": "EwABAOcABAADAAUARgJfABYAhABJAAMAAwALAAcA"
         },
         "yaxis": "y",
         "type": "bar"
        }
       ],
       "layout": {
        "template": {
         "data": {
          "barpolar": [
           {
            "marker": {
             "line": {
              "color": "white",
              "width": 0.5
             },
             "pattern": {
              "fillmode": "overlay",
              "size": 10,
              "solidity": 0.2
             }
            },
            "type": "barpolar"
           }
          ],
          "bar": [
           {
            "error_x": {
             "color": "#2a3f5f"
            },
            "error_y": {
             "color": "#2a3f5f"
            },
            "marker": {
             "line": {
              "color": "white",
              "width": 0.5
             },
             "pattern": {
              "fillmode": "overlay",
              "size": 10,
              "solidity": 0.2
             }
            },
            "type": "bar"
           }
          ],
          "carpet": [
           {
            "aaxis": {
             "endlinecolor": "#2a3f5f",
             "gridcolor": "#C8D4E3",
             "linecolor": "#C8D4E3",
             "minorgridcolor": "#C8D4E3",
             "startlinecolor": "#2a3f5f"
            },
            "baxis": {
             "endlinecolor": "#2a3f5f",
             "gridcolor": "#C8D4E3",
             "linecolor": "#C8D4E3",
             "minorgridcolor": "#C8D4E3",
             "startlinecolor": "#2a3f5f"
            },
            "type": "carpet"
           }
          ],
          "choropleth": [
           {
            "colorbar": {
             "outlinewidth": 0,
             "ticks": ""
            },
            "type": "choropleth"
           }
          ],
          "contourcarpet": [
           {
            "colorbar": {
             "outlinewidth": 0,
             "ticks": ""
            },
            "type": "contourcarpet"
           }
          ],
          "contour": [
           {
            "colorbar": {
             "outlinewidth": 0,
             "ticks": ""
            },
            "colorscale": [
             [
              0.0,
              "#0d0887"
             ],
             [
              0.1111111111111111,
              "#46039f"
             ],
             [
              0.2222222222222222,
              "#7201a8"
             ],
             [
              0.3333333333333333,
              "#9c179e"
             ],
             [
              0.4444444444444444,
              "#bd3786"
             ],
             [
              0.5555555555555556,
              "#d8576b"
             ],
             [
              0.6666666666666666,
              "#ed7953"
             ],
             [
              0.7777777777777778,
              "#fb9f3a"
             ],
             [
              0.8888888888888888,
              "#fdca26"
             ],
             [
              1.0,
              "#f0f921"
             ]
            ],
            "type": "contour"
           }
          ],
          "heatmap": [
           {
            "colorbar": {
             "outlinewidth": 0,
             "ticks": ""
            },
            "colorscale": [
             [
              0.0,
              "#0d0887"
             ],
             [
              0.1111111111111111,
              "#46039f"
             ],
             [
              0.2222222222222222,
              "#7201a8"
             ],
             [
              0.3333333333333333,
              "#9c179e"
             ],
             [
              0.4444444444444444,
              "#bd3786"
             ],
             [
              0.5555555555555556,
              "#d8576b"
             ],
             [
              0.6666666666666666,
              "#ed7953"
             ],
             [
              0.7777777777777778,
              "#fb9f3a"
             ],
             [
              0.8888888888888888,
              "#fdca26"
             ],
             [
              1.0,
              "#f0f921"
             ]
            ],
            "type": "heatmap"
           }
          ],
          "histogram2dcontour": [
           {
            "colorbar": {
             "outlinewidth": 0,
             "ticks": ""
            },
            "colorscale": [
             [
              0.0,
              "#0d0887"
             ],
             [
              0.1111111111111111,
              "#46039f"
             ],
             [
              0.2222222222222222,
              "#7201a8"
             ],
             [
              0.3333333333333333,
              "#9c179e"
             ],
             [
              0.4444444444444444,
              "#bd3786"
             ],
             [
              0.5555555555555556,
              "#d8576b"
             ],
             [
              0.6666666666666666,
              "#ed7953"
             ],
             [
              0.7777777777777778,
              "#fb9f3a"
             ],
             [
              0.8888888888888888,
              "#fdca26"
             ],
             [
              1.0,
              "#f0f921"
             ]
            ],
            "type": "histogram2dcontour"
           }
          ],
          "histogram2d": [
           {
            "colorbar": {
             "outlinewidth": 0,
             "ticks": ""
            },
            "colorscale": [
             [
              0.0,
              "#0d0887"
             ],
             [
              0.1111111111111111,
              "#46039f"
             ],
             [
              0.2222222222222222,
              "#7201a8"
             ],
             [
              0.3333333333333333,
              "#9c179e"
             ],
             [
              0.4444444444444444,
              "#bd3786"
             ],
             [
              0.5555555555555556,
              "#d8576b"
             ],
             [
              0.6666666666666666,
              "#ed7953"
             ],
             [
              0.7777777777777778,
              "#fb9f3a"
             ],
             [
              0.8888888888888888,
              "#fdca26"
             ],
             [
              1.0,
              "#f0f921"
             ]
            ],
            "type": "histogram2d"
           }
          ],
          "histogram": [
           {
            "marker": {
             "pattern": {
              "fillmode": "overlay",
              "size": 10,
              "solidity": 0.2
             }
            },
            "type": "histogram"
           }
          ],
          "mesh3d": [
           {
            "colorbar": {
             "outlinewidth": 0,
             "ticks": ""
            },
            "type": "mesh3d"
           }
          ],
          "parcoords": [
           {
            "line": {
             "colorbar": {
              "outlinewidth": 0,
              "ticks": ""
             }
            },
            "type": "parcoords"
           }
          ],
          "pie": [
           {
            "automargin": true,
            "type": "pie"
           }
          ],
          "scatter3d": [
           {
            "line": {
             "colorbar": {
              "outlinewidth": 0,
              "ticks": ""
             }
            },
            "marker": {
             "colorbar": {
              "outlinewidth": 0,
              "ticks": ""
             }
            },
            "type": "scatter3d"
           }
          ],
          "scattercarpet": [
           {
            "marker": {
             "colorbar": {
              "outlinewidth": 0,
              "ticks": ""
             }
            },
            "type": "scattercarpet"
           }
          ],
          "scattergeo": [
           {
            "marker": {
             "colorbar": {
              "outlinewidth": 0,
              "ticks": ""
             }
            },
            "type": "scattergeo"
           }
          ],
          "scattergl": [
           {
            "marker": {
             "colorbar": {
              "outlinewidth": 0,
              "ticks": ""
             }
            },
            "type": "scattergl"
           }
          ],
          "scattermapbox": [
           {
            "marker": {
             "colorbar": {
              "outlinewidth": 0,
              "ticks": ""
             }
            },
            "type": "scattermapbox"
           }
          ],
          "scattermap": [
           {
            "marker": {
             "colorbar": {
              "outlinewidth": 0,
              "ticks": ""
             }
            },
            "type": "scattermap"
           }
          ],
          "scatterpolargl": [
           {
            "marker": {
             "colorbar": {
              "outlinewidth": 0,
              "ticks": ""
             }
            },
            "type": "scatterpolargl"
           }
          ],
          "scatterpolar": [
           {
            "marker": {
             "colorbar": {
              "outlinewidth": 0,
              "ticks": ""
             }
            },
            "type": "scatterpolar"
           }
          ],
          "scatter": [
           {
            "fillpattern": {
             "fillmode": "overlay",
             "size": 10,
             "solidity": 0.2
            },
            "type": "scatter"
           }
          ],
          "scatterternary": [
           {
            "marker": {
             "colorbar": {
              "outlinewidth": 0,
              "ticks": ""
             }
            },
            "type": "scatterternary"
           }
          ],
          "surface": [
           {
            "colorbar": {
             "outlinewidth": 0,
             "ticks": ""
            },
            "colorscale": [
             [
              0.0,
              "#0d0887"
             ],
             [
              0.1111111111111111,
              "#46039f"
             ],
             [
              0.2222222222222222,
              "#7201a8"
             ],
             [
              0.3333333333333333,
              "#9c179e"
             ],
             [
              0.4444444444444444,
              "#bd3786"
             ],
             [
              0.5555555555555556,
              "#d8576b"
             ],
             [
              0.6666666666666666,
              "#ed7953"
             ],
             [
              0.7777777777777778,
              "#fb9f3a"
             ],
             [
              0.8888888888888888,
              "#fdca26"
             ],
             [
              1.0,
              "#f0f921"
             ]
            ],
            "type": "surface"
           }
          ],
          "table": [
           {
            "cells": {
             "fill": {
              "color": "#EBF0F8"
             },
             "line": {
              "color": "white"
             }
            },
            "header": {
             "fill": {
              "color": "#C8D4E3"
             },
             "line": {
              "color": "white"
             }
            },
            "type": "table"
           }
          ]
         },
         "layout": {
          "annotationdefaults": {
           "arrowcolor": "#2a3f5f",
           "arrowhead": 0,
           "arrowwidth": 1
          },
          "autotypenumbers": "strict",
          "coloraxis": {
           "colorbar": {
            "outlinewidth": 0,
            "ticks": ""
           }
          },
          "colorscale": {
           "diverging": [
            [
             0,
             "#8e0152"
            ],
            [
             0.1,
             "#c51b7d"
            ],
            [
             0.2,
             "#de77ae"
            ],
            [
             0.3,
             "#f1b6da"
            ],
            [
             0.4,
             "#fde0ef"
            ],
            [
             0.5,
             "#f7f7f7"
            ],
            [
             0.6,
             "#e6f5d0"
            ],
            [
             0.7,
             "#b8e186"
            ],
            [
             0.8,
             "#7fbc41"
            ],
            [
             0.9,
             "#4d9221"
            ],
            [
             1,
             "#276419"
            ]
           ],
           "sequential": [
            [
             0.0,
             "#0d0887"
            ],
            [
             0.1111111111111111,
             "#46039f"
            ],
            [
             0.2222222222222222,
             "#7201a8"
            ],
            [
             0.3333333333333333,
             "#9c179e"
            ],
            [
             0.4444444444444444,
             "#bd3786"
            ],
            [
             0.5555555555555556,
             "#d8576b"
            ],
            [
             0.6666666666666666,
             "#ed7953"
            ],
            [
             0.7777777777777778,
             "#fb9f3a"
            ],
            [
             0.8888888888888888,
             "#fdca26"
            ],
            [
             1.0,
             "#f0f921"
            ]
           ],
           "sequentialminus": [
            [
             0.0,
             "#0d0887"
            ],
            [
             0.1111111111111111,
             "#46039f"
            ],
            [
             0.2222222222222222,
             "#7201a8"
            ],
            [
             0.3333333333333333,
             "#9c179e"
            ],
            [
             0.4444444444444444,
             "#bd3786"
            ],
            [
             0.5555555555555556,
             "#d8576b"
            ],
            [
             0.6666666666666666,
             "#ed7953"
            ],
            [
             0.7777777777777778,
             "#fb9f3a"
            ],
            [
             0.8888888888888888,
             "#fdca26"
            ],
            [
             1.0,
             "#f0f921"
            ]
           ]
          },
          "colorway": [
           "#636efa",
           "#EF553B",
           "#00cc96",
           "#ab63fa",
           "#FFA15A",
           "#19d3f3",
           "#FF6692",
           "#B6E880",
           "#FF97FF",
           "#FECB52"
          ],
          "font": {
           "color": "#2a3f5f"
          },
          "geo": {
           "bgcolor": "white",
           "lakecolor": "white",
           "landcolor": "white",
           "showlakes": true,
           "showland": true,
           "subunitcolor": "#C8D4E3"
          },
          "hoverlabel": {
           "align": "left"
          },
          "hovermode": "closest",
          "mapbox": {
           "style": "light"
          },
          "paper_bgcolor": "white",
          "plot_bgcolor": "white",
          "polar": {
           "angularaxis": {
            "gridcolor": "#EBF0F8",
            "linecolor": "#EBF0F8",
            "ticks": ""
           },
           "bgcolor": "white",
           "radialaxis": {
            "gridcolor": "#EBF0F8",
            "linecolor": "#EBF0F8",
            "ticks": ""
           }
          },
          "scene": {
           "xaxis": {
            "backgroundcolor": "white",
            "gridcolor": "#DFE8F3",
            "gridwidth": 2,
            "linecolor": "#EBF0F8",
            "showbackground": true,
            "ticks": "",
            "zerolinecolor": "#EBF0F8"
           },
           "yaxis": {
            "backgroundcolor": "white",
            "gridcolor": "#DFE8F3",
            "gridwidth": 2,
            "linecolor": "#EBF0F8",
            "showbackground": true,
            "ticks": "",
            "zerolinecolor": "#EBF0F8"
           },
           "zaxis": {
            "backgroundcolor": "white",
            "gridcolor": "#DFE8F3",
            "gridwidth": 2,
            "linecolor": "#EBF0F8",
            "showbackground": true,
            "ticks": "",
            "zerolinecolor": "#EBF0F8"
           }
          },
          "shapedefaults": {
           "line": {
            "color": "#2a3f5f"
           }
          },
          "ternary": {
           "aaxis": {
            "gridcolor": "#DFE8F3",
            "linecolor": "#A2B1C6",
            "ticks": ""
           },
           "baxis": {
            "gridcolor": "#DFE8F3",
            "linecolor": "#A2B1C6",
            "ticks": ""
           },
           "bgcolor": "white",
           "caxis": {
            "gridcolor": "#DFE8F3",
            "linecolor": "#A2B1C6",
            "ticks": ""
           }
          },
          "title": {
           "x": 0.05
          },
          "xaxis": {
           "automargin": true,
           "gridcolor": "#EBF0F8",
           "linecolor": "#EBF0F8",
           "ticks": "",
           "title": {
            "standoff": 15
           },
           "zerolinecolor": "#EBF0F8",
           "zerolinewidth": 2
          },
          "yaxis": {
           "automargin": true,
           "gridcolor": "#EBF0F8",
           "linecolor": "#EBF0F8",
           "ticks": "",
           "title": {
            "standoff": 15
           },
           "zerolinecolor": "#EBF0F8",
           "zerolinewidth": 2
          }
         }
        },
        "xaxis": {
         "anchor": "y",
         "domain": [
          0.0,
          1.0
         ],
         "title": {
          "text": "Time Slot Start (1-Hour Interval)"
         },
         "tickangle": -45
        },
        "yaxis": {
         "anchor": "x",
         "domain": [
          0.0,
          1.0
         ],
         "title": {
          "text": "Number of Days as Peak"
         }
        },
        "legend": {
         "tracegroupgap": 0
        },
        "title": {
         "text": "Most Frequent Peak Time Slots"
        },
        "barmode": "relative",
        "hovermode": "x unified"
       },
       "config": {
        "plotlyServerURL": "https://plot.ly"
       }
      }
     },
     "metadata": {},
     "output_type": "display_data"
    }
   ],
   "execution_count": 158
  },
  {
   "metadata": {},
   "cell_type": "markdown",
   "source": "#### 11 o'clock is usually the peak time for parking.",
   "id": "ac59854c26ee16af"
  },
  {
   "metadata": {
    "ExecuteTime": {
     "end_time": "2025-05-20T03:52:29.130429Z",
     "start_time": "2025-05-20T03:52:29.060517Z"
    }
   },
   "cell_type": "code",
   "source": [
    "import plotly.express as px\n",
    "\n",
    "fig = px.bar(\n",
    "    final_summary,\n",
    "    x='TimeSlotStart',\n",
    "    y='AvgOccupiedCars',\n",
    "    title='Average Occupied Cars in Peak Time Slots',\n",
    "    labels={'TimeSlotStart': 'Time Slot Start', 'AvgOccupiedCars': 'Average Occupied Cars'},\n",
    "    text='AvgOccupiedCars'\n",
    ")\n",
    "\n",
    "fig.update_traces(textposition='outside')\n",
    "fig.update_layout(\n",
    "    xaxis_tickangle=-45,\n",
    "    template='plotly_white',\n",
    "    hovermode='x unified'\n",
    ")\n",
    "\n",
    "fig.show()\n"
   ],
   "id": "d51a466938ab4be2",
   "outputs": [
    {
     "data": {
      "application/vnd.plotly.v1+json": {
       "data": [
        {
         "hovertemplate": "Time Slot Start=%{x}<br>Average Occupied Cars=%{text}<extra></extra>",
         "legendgroup": "",
         "marker": {
          "color": "#636efa",
          "pattern": {
           "shape": ""
          }
         },
         "name": "",
         "orientation": "v",
         "showlegend": false,
         "text": {
          "dtype": "f8",
          "bdata": "eQ3lNZTXTkAAAAAAAAAUQAJS2o2AZH9AAAAAAAAAK0CrqqqqqipGQJqZmZmZ+XpAeZ3P3LdJlECPFQgj7aiRQBdddNFFeZJA+OCDDz7OkkDy48ePH8eGQFVVVVVVVTFAq6qqqqqqQkCjiy666KJ9QEmSJEmSxHpA"
         },
         "textposition": "outside",
         "x": [
          "00:00:00",
          "06:00:00",
          "07:00:00",
          "08:00:00",
          "09:00:00",
          "10:00:00",
          "11:00:00",
          "12:00:00",
          "13:00:00",
          "14:00:00",
          "15:00:00",
          "16:00:00",
          "17:00:00",
          "19:00:00",
          "23:00:00"
         ],
         "xaxis": "x",
         "y": {
          "dtype": "f8",
          "bdata": "eQ3lNZTXTkAAAAAAAAAUQAJS2o2AZH9AAAAAAAAAK0CrqqqqqipGQJqZmZmZ+XpAeZ3P3LdJlECPFQgj7aiRQBdddNFFeZJA+OCDDz7OkkDy48ePH8eGQFVVVVVVVTFAq6qqqqqqQkCjiy666KJ9QEmSJEmSxHpA"
         },
         "yaxis": "y",
         "type": "bar"
        }
       ],
       "layout": {
        "template": {
         "data": {
          "barpolar": [
           {
            "marker": {
             "line": {
              "color": "white",
              "width": 0.5
             },
             "pattern": {
              "fillmode": "overlay",
              "size": 10,
              "solidity": 0.2
             }
            },
            "type": "barpolar"
           }
          ],
          "bar": [
           {
            "error_x": {
             "color": "#2a3f5f"
            },
            "error_y": {
             "color": "#2a3f5f"
            },
            "marker": {
             "line": {
              "color": "white",
              "width": 0.5
             },
             "pattern": {
              "fillmode": "overlay",
              "size": 10,
              "solidity": 0.2
             }
            },
            "type": "bar"
           }
          ],
          "carpet": [
           {
            "aaxis": {
             "endlinecolor": "#2a3f5f",
             "gridcolor": "#C8D4E3",
             "linecolor": "#C8D4E3",
             "minorgridcolor": "#C8D4E3",
             "startlinecolor": "#2a3f5f"
            },
            "baxis": {
             "endlinecolor": "#2a3f5f",
             "gridcolor": "#C8D4E3",
             "linecolor": "#C8D4E3",
             "minorgridcolor": "#C8D4E3",
             "startlinecolor": "#2a3f5f"
            },
            "type": "carpet"
           }
          ],
          "choropleth": [
           {
            "colorbar": {
             "outlinewidth": 0,
             "ticks": ""
            },
            "type": "choropleth"
           }
          ],
          "contourcarpet": [
           {
            "colorbar": {
             "outlinewidth": 0,
             "ticks": ""
            },
            "type": "contourcarpet"
           }
          ],
          "contour": [
           {
            "colorbar": {
             "outlinewidth": 0,
             "ticks": ""
            },
            "colorscale": [
             [
              0.0,
              "#0d0887"
             ],
             [
              0.1111111111111111,
              "#46039f"
             ],
             [
              0.2222222222222222,
              "#7201a8"
             ],
             [
              0.3333333333333333,
              "#9c179e"
             ],
             [
              0.4444444444444444,
              "#bd3786"
             ],
             [
              0.5555555555555556,
              "#d8576b"
             ],
             [
              0.6666666666666666,
              "#ed7953"
             ],
             [
              0.7777777777777778,
              "#fb9f3a"
             ],
             [
              0.8888888888888888,
              "#fdca26"
             ],
             [
              1.0,
              "#f0f921"
             ]
            ],
            "type": "contour"
           }
          ],
          "heatmap": [
           {
            "colorbar": {
             "outlinewidth": 0,
             "ticks": ""
            },
            "colorscale": [
             [
              0.0,
              "#0d0887"
             ],
             [
              0.1111111111111111,
              "#46039f"
             ],
             [
              0.2222222222222222,
              "#7201a8"
             ],
             [
              0.3333333333333333,
              "#9c179e"
             ],
             [
              0.4444444444444444,
              "#bd3786"
             ],
             [
              0.5555555555555556,
              "#d8576b"
             ],
             [
              0.6666666666666666,
              "#ed7953"
             ],
             [
              0.7777777777777778,
              "#fb9f3a"
             ],
             [
              0.8888888888888888,
              "#fdca26"
             ],
             [
              1.0,
              "#f0f921"
             ]
            ],
            "type": "heatmap"
           }
          ],
          "histogram2dcontour": [
           {
            "colorbar": {
             "outlinewidth": 0,
             "ticks": ""
            },
            "colorscale": [
             [
              0.0,
              "#0d0887"
             ],
             [
              0.1111111111111111,
              "#46039f"
             ],
             [
              0.2222222222222222,
              "#7201a8"
             ],
             [
              0.3333333333333333,
              "#9c179e"
             ],
             [
              0.4444444444444444,
              "#bd3786"
             ],
             [
              0.5555555555555556,
              "#d8576b"
             ],
             [
              0.6666666666666666,
              "#ed7953"
             ],
             [
              0.7777777777777778,
              "#fb9f3a"
             ],
             [
              0.8888888888888888,
              "#fdca26"
             ],
             [
              1.0,
              "#f0f921"
             ]
            ],
            "type": "histogram2dcontour"
           }
          ],
          "histogram2d": [
           {
            "colorbar": {
             "outlinewidth": 0,
             "ticks": ""
            },
            "colorscale": [
             [
              0.0,
              "#0d0887"
             ],
             [
              0.1111111111111111,
              "#46039f"
             ],
             [
              0.2222222222222222,
              "#7201a8"
             ],
             [
              0.3333333333333333,
              "#9c179e"
             ],
             [
              0.4444444444444444,
              "#bd3786"
             ],
             [
              0.5555555555555556,
              "#d8576b"
             ],
             [
              0.6666666666666666,
              "#ed7953"
             ],
             [
              0.7777777777777778,
              "#fb9f3a"
             ],
             [
              0.8888888888888888,
              "#fdca26"
             ],
             [
              1.0,
              "#f0f921"
             ]
            ],
            "type": "histogram2d"
           }
          ],
          "histogram": [
           {
            "marker": {
             "pattern": {
              "fillmode": "overlay",
              "size": 10,
              "solidity": 0.2
             }
            },
            "type": "histogram"
           }
          ],
          "mesh3d": [
           {
            "colorbar": {
             "outlinewidth": 0,
             "ticks": ""
            },
            "type": "mesh3d"
           }
          ],
          "parcoords": [
           {
            "line": {
             "colorbar": {
              "outlinewidth": 0,
              "ticks": ""
             }
            },
            "type": "parcoords"
           }
          ],
          "pie": [
           {
            "automargin": true,
            "type": "pie"
           }
          ],
          "scatter3d": [
           {
            "line": {
             "colorbar": {
              "outlinewidth": 0,
              "ticks": ""
             }
            },
            "marker": {
             "colorbar": {
              "outlinewidth": 0,
              "ticks": ""
             }
            },
            "type": "scatter3d"
           }
          ],
          "scattercarpet": [
           {
            "marker": {
             "colorbar": {
              "outlinewidth": 0,
              "ticks": ""
             }
            },
            "type": "scattercarpet"
           }
          ],
          "scattergeo": [
           {
            "marker": {
             "colorbar": {
              "outlinewidth": 0,
              "ticks": ""
             }
            },
            "type": "scattergeo"
           }
          ],
          "scattergl": [
           {
            "marker": {
             "colorbar": {
              "outlinewidth": 0,
              "ticks": ""
             }
            },
            "type": "scattergl"
           }
          ],
          "scattermapbox": [
           {
            "marker": {
             "colorbar": {
              "outlinewidth": 0,
              "ticks": ""
             }
            },
            "type": "scattermapbox"
           }
          ],
          "scattermap": [
           {
            "marker": {
             "colorbar": {
              "outlinewidth": 0,
              "ticks": ""
             }
            },
            "type": "scattermap"
           }
          ],
          "scatterpolargl": [
           {
            "marker": {
             "colorbar": {
              "outlinewidth": 0,
              "ticks": ""
             }
            },
            "type": "scatterpolargl"
           }
          ],
          "scatterpolar": [
           {
            "marker": {
             "colorbar": {
              "outlinewidth": 0,
              "ticks": ""
             }
            },
            "type": "scatterpolar"
           }
          ],
          "scatter": [
           {
            "fillpattern": {
             "fillmode": "overlay",
             "size": 10,
             "solidity": 0.2
            },
            "type": "scatter"
           }
          ],
          "scatterternary": [
           {
            "marker": {
             "colorbar": {
              "outlinewidth": 0,
              "ticks": ""
             }
            },
            "type": "scatterternary"
           }
          ],
          "surface": [
           {
            "colorbar": {
             "outlinewidth": 0,
             "ticks": ""
            },
            "colorscale": [
             [
              0.0,
              "#0d0887"
             ],
             [
              0.1111111111111111,
              "#46039f"
             ],
             [
              0.2222222222222222,
              "#7201a8"
             ],
             [
              0.3333333333333333,
              "#9c179e"
             ],
             [
              0.4444444444444444,
              "#bd3786"
             ],
             [
              0.5555555555555556,
              "#d8576b"
             ],
             [
              0.6666666666666666,
              "#ed7953"
             ],
             [
              0.7777777777777778,
              "#fb9f3a"
             ],
             [
              0.8888888888888888,
              "#fdca26"
             ],
             [
              1.0,
              "#f0f921"
             ]
            ],
            "type": "surface"
           }
          ],
          "table": [
           {
            "cells": {
             "fill": {
              "color": "#EBF0F8"
             },
             "line": {
              "color": "white"
             }
            },
            "header": {
             "fill": {
              "color": "#C8D4E3"
             },
             "line": {
              "color": "white"
             }
            },
            "type": "table"
           }
          ]
         },
         "layout": {
          "annotationdefaults": {
           "arrowcolor": "#2a3f5f",
           "arrowhead": 0,
           "arrowwidth": 1
          },
          "autotypenumbers": "strict",
          "coloraxis": {
           "colorbar": {
            "outlinewidth": 0,
            "ticks": ""
           }
          },
          "colorscale": {
           "diverging": [
            [
             0,
             "#8e0152"
            ],
            [
             0.1,
             "#c51b7d"
            ],
            [
             0.2,
             "#de77ae"
            ],
            [
             0.3,
             "#f1b6da"
            ],
            [
             0.4,
             "#fde0ef"
            ],
            [
             0.5,
             "#f7f7f7"
            ],
            [
             0.6,
             "#e6f5d0"
            ],
            [
             0.7,
             "#b8e186"
            ],
            [
             0.8,
             "#7fbc41"
            ],
            [
             0.9,
             "#4d9221"
            ],
            [
             1,
             "#276419"
            ]
           ],
           "sequential": [
            [
             0.0,
             "#0d0887"
            ],
            [
             0.1111111111111111,
             "#46039f"
            ],
            [
             0.2222222222222222,
             "#7201a8"
            ],
            [
             0.3333333333333333,
             "#9c179e"
            ],
            [
             0.4444444444444444,
             "#bd3786"
            ],
            [
             0.5555555555555556,
             "#d8576b"
            ],
            [
             0.6666666666666666,
             "#ed7953"
            ],
            [
             0.7777777777777778,
             "#fb9f3a"
            ],
            [
             0.8888888888888888,
             "#fdca26"
            ],
            [
             1.0,
             "#f0f921"
            ]
           ],
           "sequentialminus": [
            [
             0.0,
             "#0d0887"
            ],
            [
             0.1111111111111111,
             "#46039f"
            ],
            [
             0.2222222222222222,
             "#7201a8"
            ],
            [
             0.3333333333333333,
             "#9c179e"
            ],
            [
             0.4444444444444444,
             "#bd3786"
            ],
            [
             0.5555555555555556,
             "#d8576b"
            ],
            [
             0.6666666666666666,
             "#ed7953"
            ],
            [
             0.7777777777777778,
             "#fb9f3a"
            ],
            [
             0.8888888888888888,
             "#fdca26"
            ],
            [
             1.0,
             "#f0f921"
            ]
           ]
          },
          "colorway": [
           "#636efa",
           "#EF553B",
           "#00cc96",
           "#ab63fa",
           "#FFA15A",
           "#19d3f3",
           "#FF6692",
           "#B6E880",
           "#FF97FF",
           "#FECB52"
          ],
          "font": {
           "color": "#2a3f5f"
          },
          "geo": {
           "bgcolor": "white",
           "lakecolor": "white",
           "landcolor": "white",
           "showlakes": true,
           "showland": true,
           "subunitcolor": "#C8D4E3"
          },
          "hoverlabel": {
           "align": "left"
          },
          "hovermode": "closest",
          "mapbox": {
           "style": "light"
          },
          "paper_bgcolor": "white",
          "plot_bgcolor": "white",
          "polar": {
           "angularaxis": {
            "gridcolor": "#EBF0F8",
            "linecolor": "#EBF0F8",
            "ticks": ""
           },
           "bgcolor": "white",
           "radialaxis": {
            "gridcolor": "#EBF0F8",
            "linecolor": "#EBF0F8",
            "ticks": ""
           }
          },
          "scene": {
           "xaxis": {
            "backgroundcolor": "white",
            "gridcolor": "#DFE8F3",
            "gridwidth": 2,
            "linecolor": "#EBF0F8",
            "showbackground": true,
            "ticks": "",
            "zerolinecolor": "#EBF0F8"
           },
           "yaxis": {
            "backgroundcolor": "white",
            "gridcolor": "#DFE8F3",
            "gridwidth": 2,
            "linecolor": "#EBF0F8",
            "showbackground": true,
            "ticks": "",
            "zerolinecolor": "#EBF0F8"
           },
           "zaxis": {
            "backgroundcolor": "white",
            "gridcolor": "#DFE8F3",
            "gridwidth": 2,
            "linecolor": "#EBF0F8",
            "showbackground": true,
            "ticks": "",
            "zerolinecolor": "#EBF0F8"
           }
          },
          "shapedefaults": {
           "line": {
            "color": "#2a3f5f"
           }
          },
          "ternary": {
           "aaxis": {
            "gridcolor": "#DFE8F3",
            "linecolor": "#A2B1C6",
            "ticks": ""
           },
           "baxis": {
            "gridcolor": "#DFE8F3",
            "linecolor": "#A2B1C6",
            "ticks": ""
           },
           "bgcolor": "white",
           "caxis": {
            "gridcolor": "#DFE8F3",
            "linecolor": "#A2B1C6",
            "ticks": ""
           }
          },
          "title": {
           "x": 0.05
          },
          "xaxis": {
           "automargin": true,
           "gridcolor": "#EBF0F8",
           "linecolor": "#EBF0F8",
           "ticks": "",
           "title": {
            "standoff": 15
           },
           "zerolinecolor": "#EBF0F8",
           "zerolinewidth": 2
          },
          "yaxis": {
           "automargin": true,
           "gridcolor": "#EBF0F8",
           "linecolor": "#EBF0F8",
           "ticks": "",
           "title": {
            "standoff": 15
           },
           "zerolinecolor": "#EBF0F8",
           "zerolinewidth": 2
          }
         }
        },
        "xaxis": {
         "anchor": "y",
         "domain": [
          0.0,
          1.0
         ],
         "title": {
          "text": "Time Slot Start"
         },
         "tickangle": -45
        },
        "yaxis": {
         "anchor": "x",
         "domain": [
          0.0,
          1.0
         ],
         "title": {
          "text": "Average Occupied Cars"
         }
        },
        "legend": {
         "tracegroupgap": 0
        },
        "title": {
         "text": "Average Occupied Cars in Peak Time Slots"
        },
        "barmode": "relative",
        "hovermode": "x unified"
       },
       "config": {
        "plotlyServerURL": "https://plot.ly"
       }
      }
     },
     "metadata": {},
     "output_type": "display_data"
    }
   ],
   "execution_count": 154
  },
  {
   "metadata": {
    "ExecuteTime": {
     "end_time": "2025-05-20T02:32:30.909351Z",
     "start_time": "2025-05-20T02:32:30.902731Z"
    }
   },
   "cell_type": "code",
   "source": [
    "max_occupied = usage_summary['OccupiedCars'].max()\n",
    "print(f\"The maximum number of vehicles occupying the vehicle at the same time in a day is：{max_occupied}\")"
   ],
   "id": "a10983a29a53bcd",
   "outputs": [
    {
     "name": "stdout",
     "output_type": "stream",
     "text": [
      "The maximum number of vehicles occupying the vehicle at the same time in a day is：2275\n"
     ]
    }
   ],
   "execution_count": 126
  },
  {
   "metadata": {},
   "cell_type": "markdown",
   "source": [
    "#### Based on the daily parking situation, 11:00 a.m. to 3:00 p.m. is the time when the most vehicles appear at the same time. Also，The maximum number of vehicles parked at the same time is 2,275. If the number of parking spaces is 16,000, we can consider issuing some new cards in the future.\n",
    "\n"
   ],
   "id": "fa0e2f8bb7562c58"
  },
  {
   "metadata": {},
   "cell_type": "markdown",
   "source": [
    "## Analysis of simultaneous parking in weekly units\n",
    "\n"
   ],
   "id": "603c466ae9e1cff5"
  },
  {
   "metadata": {
    "ExecuteTime": {
     "end_time": "2025-05-20T02:56:14.077623Z",
     "start_time": "2025-05-20T02:55:49.006006Z"
    }
   },
   "cell_type": "code",
   "source": [
    "df['Date'] = pd.to_datetime(df['Date'])\n",
    "df['Week'] = df['Date'].dt.to_period('W').apply(lambda r: r.start_time)\n",
    "df['Weekday'] = df['Date'].dt.day_name()"
   ],
   "id": "21286c8d17380d83",
   "outputs": [],
   "execution_count": 130
  },
  {
   "metadata": {
    "ExecuteTime": {
     "end_time": "2025-05-20T02:57:17.008153Z",
     "start_time": "2025-05-20T02:57:16.659635Z"
    }
   },
   "cell_type": "code",
   "source": [
    "weekly_occupancy = (\n",
    "     df.groupby(['Week', 'Weekday'])['CardNumber']\n",
    "    .nunique()\n",
    "    .reset_index(name='OccupiedCars')\n",
    ")\n",
    "weekly_peak_day = (\n",
    "    weekly_occupancy\n",
    "    .sort_values(['Week', 'OccupiedCars'], ascending=[True, False])\n",
    "    .drop_duplicates('Week')\n",
    ")\n",
    "\n",
    "peak_day_distribution = (\n",
    "    weekly_peak_day['Weekday']\n",
    "    .value_counts()\n",
    "    .reset_index()\n",
    ")\n",
    "peak_day_distribution.columns = ['Weekday', 'PeakDayCount']"
   ],
   "id": "3ab500426c36637d",
   "outputs": [],
   "execution_count": 133
  },
  {
   "metadata": {
    "ExecuteTime": {
     "end_time": "2025-05-20T02:57:19.045285Z",
     "start_time": "2025-05-20T02:57:19.011637Z"
    }
   },
   "cell_type": "code",
   "source": [
    "import plotly.express as px\n",
    "\n",
    "\n",
    "fig = px.bar(\n",
    "    peak_day_distribution,\n",
    "    x='Weekday',\n",
    "    y='PeakDayCount',\n",
    "    title='Most Frequent Peak Day in Weekly Parking Usage',\n",
    "    labels={'Weekday': 'Day of Week', 'PeakDayCount': 'Times as Weekly Peak'},\n",
    "    category_orders={'Weekday': ['Monday', 'Tuesday', 'Wednesday', 'Thursday', 'Friday', 'Saturday', 'Sunday']},\n",
    "    text='PeakDayCount'\n",
    ")\n",
    "\n",
    "fig.update_traces(textposition='outside')\n",
    "fig.update_layout(xaxis_title='Weekday', yaxis_title='Number of Weeks as Peak Day')\n",
    "fig.show()"
   ],
   "id": "cca2463e7779a447",
   "outputs": [
    {
     "data": {
      "application/vnd.plotly.v1+json": {
       "data": [
        {
         "hovertemplate": "Day of Week=%{x}<br>Times as Weekly Peak=%{text}<extra></extra>",
         "legendgroup": "",
         "marker": {
          "color": "#636efa",
          "pattern": {
           "shape": ""
          }
         },
         "name": "",
         "orientation": "v",
         "showlegend": false,
         "text": {
          "dtype": "f8",
          "bdata": "AAAAAACAUkAAAAAAAIBOQAAAAAAAADtAAAAAAAAAGEAAAAAAAAAAQAAAAAAAAPA/"
         },
         "textposition": "outside",
         "x": [
          "Wednesday",
          "Tuesday",
          "Thursday",
          "Monday",
          "Friday",
          "Sunday"
         ],
         "xaxis": "x",
         "y": {
          "dtype": "i1",
          "bdata": "Sj0bBgIB"
         },
         "yaxis": "y",
         "type": "bar"
        }
       ],
       "layout": {
        "template": {
         "data": {
          "histogram2dcontour": [
           {
            "type": "histogram2dcontour",
            "colorbar": {
             "outlinewidth": 0,
             "ticks": ""
            },
            "colorscale": [
             [
              0.0,
              "#0d0887"
             ],
             [
              0.1111111111111111,
              "#46039f"
             ],
             [
              0.2222222222222222,
              "#7201a8"
             ],
             [
              0.3333333333333333,
              "#9c179e"
             ],
             [
              0.4444444444444444,
              "#bd3786"
             ],
             [
              0.5555555555555556,
              "#d8576b"
             ],
             [
              0.6666666666666666,
              "#ed7953"
             ],
             [
              0.7777777777777778,
              "#fb9f3a"
             ],
             [
              0.8888888888888888,
              "#fdca26"
             ],
             [
              1.0,
              "#f0f921"
             ]
            ]
           }
          ],
          "choropleth": [
           {
            "type": "choropleth",
            "colorbar": {
             "outlinewidth": 0,
             "ticks": ""
            }
           }
          ],
          "histogram2d": [
           {
            "type": "histogram2d",
            "colorbar": {
             "outlinewidth": 0,
             "ticks": ""
            },
            "colorscale": [
             [
              0.0,
              "#0d0887"
             ],
             [
              0.1111111111111111,
              "#46039f"
             ],
             [
              0.2222222222222222,
              "#7201a8"
             ],
             [
              0.3333333333333333,
              "#9c179e"
             ],
             [
              0.4444444444444444,
              "#bd3786"
             ],
             [
              0.5555555555555556,
              "#d8576b"
             ],
             [
              0.6666666666666666,
              "#ed7953"
             ],
             [
              0.7777777777777778,
              "#fb9f3a"
             ],
             [
              0.8888888888888888,
              "#fdca26"
             ],
             [
              1.0,
              "#f0f921"
             ]
            ]
           }
          ],
          "heatmap": [
           {
            "type": "heatmap",
            "colorbar": {
             "outlinewidth": 0,
             "ticks": ""
            },
            "colorscale": [
             [
              0.0,
              "#0d0887"
             ],
             [
              0.1111111111111111,
              "#46039f"
             ],
             [
              0.2222222222222222,
              "#7201a8"
             ],
             [
              0.3333333333333333,
              "#9c179e"
             ],
             [
              0.4444444444444444,
              "#bd3786"
             ],
             [
              0.5555555555555556,
              "#d8576b"
             ],
             [
              0.6666666666666666,
              "#ed7953"
             ],
             [
              0.7777777777777778,
              "#fb9f3a"
             ],
             [
              0.8888888888888888,
              "#fdca26"
             ],
             [
              1.0,
              "#f0f921"
             ]
            ]
           }
          ],
          "contourcarpet": [
           {
            "type": "contourcarpet",
            "colorbar": {
             "outlinewidth": 0,
             "ticks": ""
            }
           }
          ],
          "contour": [
           {
            "type": "contour",
            "colorbar": {
             "outlinewidth": 0,
             "ticks": ""
            },
            "colorscale": [
             [
              0.0,
              "#0d0887"
             ],
             [
              0.1111111111111111,
              "#46039f"
             ],
             [
              0.2222222222222222,
              "#7201a8"
             ],
             [
              0.3333333333333333,
              "#9c179e"
             ],
             [
              0.4444444444444444,
              "#bd3786"
             ],
             [
              0.5555555555555556,
              "#d8576b"
             ],
             [
              0.6666666666666666,
              "#ed7953"
             ],
             [
              0.7777777777777778,
              "#fb9f3a"
             ],
             [
              0.8888888888888888,
              "#fdca26"
             ],
             [
              1.0,
              "#f0f921"
             ]
            ]
           }
          ],
          "surface": [
           {
            "type": "surface",
            "colorbar": {
             "outlinewidth": 0,
             "ticks": ""
            },
            "colorscale": [
             [
              0.0,
              "#0d0887"
             ],
             [
              0.1111111111111111,
              "#46039f"
             ],
             [
              0.2222222222222222,
              "#7201a8"
             ],
             [
              0.3333333333333333,
              "#9c179e"
             ],
             [
              0.4444444444444444,
              "#bd3786"
             ],
             [
              0.5555555555555556,
              "#d8576b"
             ],
             [
              0.6666666666666666,
              "#ed7953"
             ],
             [
              0.7777777777777778,
              "#fb9f3a"
             ],
             [
              0.8888888888888888,
              "#fdca26"
             ],
             [
              1.0,
              "#f0f921"
             ]
            ]
           }
          ],
          "mesh3d": [
           {
            "type": "mesh3d",
            "colorbar": {
             "outlinewidth": 0,
             "ticks": ""
            }
           }
          ],
          "scatter": [
           {
            "fillpattern": {
             "fillmode": "overlay",
             "size": 10,
             "solidity": 0.2
            },
            "type": "scatter"
           }
          ],
          "parcoords": [
           {
            "type": "parcoords",
            "line": {
             "colorbar": {
              "outlinewidth": 0,
              "ticks": ""
             }
            }
           }
          ],
          "scatterpolargl": [
           {
            "type": "scatterpolargl",
            "marker": {
             "colorbar": {
              "outlinewidth": 0,
              "ticks": ""
             }
            }
           }
          ],
          "bar": [
           {
            "error_x": {
             "color": "#2a3f5f"
            },
            "error_y": {
             "color": "#2a3f5f"
            },
            "marker": {
             "line": {
              "color": "#E5ECF6",
              "width": 0.5
             },
             "pattern": {
              "fillmode": "overlay",
              "size": 10,
              "solidity": 0.2
             }
            },
            "type": "bar"
           }
          ],
          "scattergeo": [
           {
            "type": "scattergeo",
            "marker": {
             "colorbar": {
              "outlinewidth": 0,
              "ticks": ""
             }
            }
           }
          ],
          "scatterpolar": [
           {
            "type": "scatterpolar",
            "marker": {
             "colorbar": {
              "outlinewidth": 0,
              "ticks": ""
             }
            }
           }
          ],
          "histogram": [
           {
            "marker": {
             "pattern": {
              "fillmode": "overlay",
              "size": 10,
              "solidity": 0.2
             }
            },
            "type": "histogram"
           }
          ],
          "scattergl": [
           {
            "type": "scattergl",
            "marker": {
             "colorbar": {
              "outlinewidth": 0,
              "ticks": ""
             }
            }
           }
          ],
          "scatter3d": [
           {
            "type": "scatter3d",
            "line": {
             "colorbar": {
              "outlinewidth": 0,
              "ticks": ""
             }
            },
            "marker": {
             "colorbar": {
              "outlinewidth": 0,
              "ticks": ""
             }
            }
           }
          ],
          "scattermap": [
           {
            "type": "scattermap",
            "marker": {
             "colorbar": {
              "outlinewidth": 0,
              "ticks": ""
             }
            }
           }
          ],
          "scattermapbox": [
           {
            "type": "scattermapbox",
            "marker": {
             "colorbar": {
              "outlinewidth": 0,
              "ticks": ""
             }
            }
           }
          ],
          "scatterternary": [
           {
            "type": "scatterternary",
            "marker": {
             "colorbar": {
              "outlinewidth": 0,
              "ticks": ""
             }
            }
           }
          ],
          "scattercarpet": [
           {
            "type": "scattercarpet",
            "marker": {
             "colorbar": {
              "outlinewidth": 0,
              "ticks": ""
             }
            }
           }
          ],
          "carpet": [
           {
            "aaxis": {
             "endlinecolor": "#2a3f5f",
             "gridcolor": "white",
             "linecolor": "white",
             "minorgridcolor": "white",
             "startlinecolor": "#2a3f5f"
            },
            "baxis": {
             "endlinecolor": "#2a3f5f",
             "gridcolor": "white",
             "linecolor": "white",
             "minorgridcolor": "white",
             "startlinecolor": "#2a3f5f"
            },
            "type": "carpet"
           }
          ],
          "table": [
           {
            "cells": {
             "fill": {
              "color": "#EBF0F8"
             },
             "line": {
              "color": "white"
             }
            },
            "header": {
             "fill": {
              "color": "#C8D4E3"
             },
             "line": {
              "color": "white"
             }
            },
            "type": "table"
           }
          ],
          "barpolar": [
           {
            "marker": {
             "line": {
              "color": "#E5ECF6",
              "width": 0.5
             },
             "pattern": {
              "fillmode": "overlay",
              "size": 10,
              "solidity": 0.2
             }
            },
            "type": "barpolar"
           }
          ],
          "pie": [
           {
            "automargin": true,
            "type": "pie"
           }
          ]
         },
         "layout": {
          "autotypenumbers": "strict",
          "colorway": [
           "#636efa",
           "#EF553B",
           "#00cc96",
           "#ab63fa",
           "#FFA15A",
           "#19d3f3",
           "#FF6692",
           "#B6E880",
           "#FF97FF",
           "#FECB52"
          ],
          "font": {
           "color": "#2a3f5f"
          },
          "hovermode": "closest",
          "hoverlabel": {
           "align": "left"
          },
          "paper_bgcolor": "white",
          "plot_bgcolor": "#E5ECF6",
          "polar": {
           "bgcolor": "#E5ECF6",
           "angularaxis": {
            "gridcolor": "white",
            "linecolor": "white",
            "ticks": ""
           },
           "radialaxis": {
            "gridcolor": "white",
            "linecolor": "white",
            "ticks": ""
           }
          },
          "ternary": {
           "bgcolor": "#E5ECF6",
           "aaxis": {
            "gridcolor": "white",
            "linecolor": "white",
            "ticks": ""
           },
           "baxis": {
            "gridcolor": "white",
            "linecolor": "white",
            "ticks": ""
           },
           "caxis": {
            "gridcolor": "white",
            "linecolor": "white",
            "ticks": ""
           }
          },
          "coloraxis": {
           "colorbar": {
            "outlinewidth": 0,
            "ticks": ""
           }
          },
          "colorscale": {
           "sequential": [
            [
             0.0,
             "#0d0887"
            ],
            [
             0.1111111111111111,
             "#46039f"
            ],
            [
             0.2222222222222222,
             "#7201a8"
            ],
            [
             0.3333333333333333,
             "#9c179e"
            ],
            [
             0.4444444444444444,
             "#bd3786"
            ],
            [
             0.5555555555555556,
             "#d8576b"
            ],
            [
             0.6666666666666666,
             "#ed7953"
            ],
            [
             0.7777777777777778,
             "#fb9f3a"
            ],
            [
             0.8888888888888888,
             "#fdca26"
            ],
            [
             1.0,
             "#f0f921"
            ]
           ],
           "sequentialminus": [
            [
             0.0,
             "#0d0887"
            ],
            [
             0.1111111111111111,
             "#46039f"
            ],
            [
             0.2222222222222222,
             "#7201a8"
            ],
            [
             0.3333333333333333,
             "#9c179e"
            ],
            [
             0.4444444444444444,
             "#bd3786"
            ],
            [
             0.5555555555555556,
             "#d8576b"
            ],
            [
             0.6666666666666666,
             "#ed7953"
            ],
            [
             0.7777777777777778,
             "#fb9f3a"
            ],
            [
             0.8888888888888888,
             "#fdca26"
            ],
            [
             1.0,
             "#f0f921"
            ]
           ],
           "diverging": [
            [
             0,
             "#8e0152"
            ],
            [
             0.1,
             "#c51b7d"
            ],
            [
             0.2,
             "#de77ae"
            ],
            [
             0.3,
             "#f1b6da"
            ],
            [
             0.4,
             "#fde0ef"
            ],
            [
             0.5,
             "#f7f7f7"
            ],
            [
             0.6,
             "#e6f5d0"
            ],
            [
             0.7,
             "#b8e186"
            ],
            [
             0.8,
             "#7fbc41"
            ],
            [
             0.9,
             "#4d9221"
            ],
            [
             1,
             "#276419"
            ]
           ]
          },
          "xaxis": {
           "gridcolor": "white",
           "linecolor": "white",
           "ticks": "",
           "title": {
            "standoff": 15
           },
           "zerolinecolor": "white",
           "automargin": true,
           "zerolinewidth": 2
          },
          "yaxis": {
           "gridcolor": "white",
           "linecolor": "white",
           "ticks": "",
           "title": {
            "standoff": 15
           },
           "zerolinecolor": "white",
           "automargin": true,
           "zerolinewidth": 2
          },
          "scene": {
           "xaxis": {
            "backgroundcolor": "#E5ECF6",
            "gridcolor": "white",
            "linecolor": "white",
            "showbackground": true,
            "ticks": "",
            "zerolinecolor": "white",
            "gridwidth": 2
           },
           "yaxis": {
            "backgroundcolor": "#E5ECF6",
            "gridcolor": "white",
            "linecolor": "white",
            "showbackground": true,
            "ticks": "",
            "zerolinecolor": "white",
            "gridwidth": 2
           },
           "zaxis": {
            "backgroundcolor": "#E5ECF6",
            "gridcolor": "white",
            "linecolor": "white",
            "showbackground": true,
            "ticks": "",
            "zerolinecolor": "white",
            "gridwidth": 2
           }
          },
          "shapedefaults": {
           "line": {
            "color": "#2a3f5f"
           }
          },
          "annotationdefaults": {
           "arrowcolor": "#2a3f5f",
           "arrowhead": 0,
           "arrowwidth": 1
          },
          "geo": {
           "bgcolor": "white",
           "landcolor": "#E5ECF6",
           "subunitcolor": "white",
           "showland": true,
           "showlakes": true,
           "lakecolor": "white"
          },
          "title": {
           "x": 0.05
          },
          "mapbox": {
           "style": "light"
          }
         }
        },
        "xaxis": {
         "anchor": "y",
         "domain": [
          0.0,
          1.0
         ],
         "title": {
          "text": "Weekday"
         },
         "categoryorder": "array",
         "categoryarray": [
          "Monday",
          "Tuesday",
          "Wednesday",
          "Thursday",
          "Friday",
          "Saturday",
          "Sunday"
         ]
        },
        "yaxis": {
         "anchor": "x",
         "domain": [
          0.0,
          1.0
         ],
         "title": {
          "text": "Number of Weeks as Peak Day"
         }
        },
        "legend": {
         "tracegroupgap": 0
        },
        "title": {
         "text": "Most Frequent Peak Day in Weekly Parking Usage"
        },
        "barmode": "relative"
       },
       "config": {
        "plotlyServerURL": "https://plot.ly"
       }
      }
     },
     "metadata": {},
     "output_type": "display_data"
    }
   ],
   "execution_count": 134
  },
  {
   "metadata": {},
   "cell_type": "markdown",
   "source": "#### From a weekly perspective, vehicle occupancy levels are highest on Tuesdays and Wednesdays, indicating these weekdays as the most frequent peak usage days\n",
   "id": "6493a41ce960579e"
  },
  {
   "metadata": {},
   "cell_type": "markdown",
   "source": "## Analysis of simultaneous parking in years\n",
   "id": "b0b31511cd6b7859"
  },
  {
   "metadata": {
    "ExecuteTime": {
     "end_time": "2025-05-20T03:26:40.999564Z",
     "start_time": "2025-05-20T03:26:40.813774Z"
    }
   },
   "cell_type": "code",
   "source": [
    "df['Year'] = df['Date'].dt.year\n",
    "df['Month'] = df['Date'].dt.month\n",
    "\n",
    "monthly_stats = (\n",
    "    df.groupby(['Year', 'Month'])['CardNumber']\n",
    "    .nunique()\n",
    "    .reset_index(name='OccupiedCars')\n",
    ")"
   ],
   "id": "31c8029ae73cb100",
   "outputs": [],
   "execution_count": 152
  },
  {
   "metadata": {
    "ExecuteTime": {
     "end_time": "2025-05-20T03:26:42.852963Z",
     "start_time": "2025-05-20T03:26:42.820239Z"
    }
   },
   "cell_type": "code",
   "source": [
    "# Month name mapping\n",
    "import plotly.graph_objects as go\n",
    "\n",
    "month_names = ['Jan', 'Feb', 'Mar', 'Apr', 'May', 'Jun',\n",
    "               'Jul', 'Aug', 'Sep', 'Oct', 'Nov', 'Dec']\n",
    "\n",
    "monthly_stats['MonthName'] = monthly_stats['Month'].apply(lambda x: month_names[x-1])\n",
    "\n",
    "\n",
    "fig = go.Figure()\n",
    "\n",
    "years = sorted(monthly_stats['Year'].unique())\n",
    "\n",
    "\n",
    "for i, year in enumerate(years):\n",
    "    df_year = monthly_stats[monthly_stats['Year'] == year]\n",
    "    fig.add_trace(\n",
    "        go.Bar(\n",
    "            x=df_year['MonthName'],\n",
    "            y=df_year['OccupiedCars'],\n",
    "            name=str(year),\n",
    "            visible=(i == 0)  # 只有第一个年份可见\n",
    "        )\n",
    "    )\n",
    "\n",
    "\n",
    "buttons = []\n",
    "for i, year in enumerate(years):\n",
    "    visibility = [False] * len(years)\n",
    "    visibility[i] = True\n",
    "    buttons.append(dict(\n",
    "        label=str(year),\n",
    "        method='update',\n",
    "        args=[{'visible': visibility},\n",
    "              {'title': f'Parking Usage by Month — {year}'}]\n",
    "    ))\n",
    "\n",
    "\n",
    "fig.update_layout(\n",
    "    updatemenus=[dict(\n",
    "        active=0,\n",
    "        buttons=buttons,\n",
    "        direction=\"right\",\n",
    "        x=0.5, xanchor=\"center\",\n",
    "        y=1.15, yanchor=\"top\"\n",
    "    )],\n",
    "    title=f'Parking Usage by Month — {years[0]}',\n",
    "    xaxis_title='Month',\n",
    "    yaxis_title='Number of Occupied Cars',\n",
    "    showlegend=False,\n",
    "    template='plotly_white'\n",
    ")\n",
    "\n",
    "fig.show()"
   ],
   "id": "2efd17aca0e91565",
   "outputs": [
    {
     "data": {
      "application/vnd.plotly.v1+json": {
       "data": [
        {
         "name": "2020",
         "visible": true,
         "x": [
          "Dec"
         ],
         "y": {
          "dtype": "i1",
          "bdata": "Dg=="
         },
         "type": "bar"
        },
        {
         "name": "2021",
         "visible": false,
         "x": [
          "Jan",
          "Feb",
          "Mar",
          "Apr",
          "May",
          "Jun",
          "Jul",
          "Aug",
          "Sep",
          "Oct",
          "Nov",
          "Dec"
         ],
         "y": {
          "dtype": "i2",
          "bdata": "5gwDDQcNOw2GDYcNBQ4cDxAQ+hDDEHUQ"
         },
         "type": "bar"
        },
        {
         "name": "2022",
         "visible": false,
         "x": [
          "Jan",
          "Feb",
          "Mar",
          "Apr",
          "May",
          "Jun",
          "Jul",
          "Aug",
          "Sep",
          "Oct",
          "Nov",
          "Dec"
         ],
         "y": {
          "dtype": "i2",
          "bdata": "GhEYEaARyhHkEV4RZRNfFUcWJxdYF08X"
         },
         "type": "bar"
        },
        {
         "name": "2023",
         "visible": false,
         "x": [
          "Jan",
          "Feb",
          "Mar",
          "Apr",
          "May",
          "Jun",
          "Jul",
          "Aug",
          "Sep",
          "Oct",
          "Nov",
          "Dec"
         ],
         "y": {
          "dtype": "i2",
          "bdata": "nBc1GJoYhxidGJgXihhBGywddR5KHn8e"
         },
         "type": "bar"
        },
        {
         "name": "2024",
         "visible": false,
         "x": [
          "Jan",
          "Feb",
          "Mar"
         ],
         "y": {
          "dtype": "i2",
          "bdata": "NR+8H6Qe"
         },
         "type": "bar"
        }
       ],
       "layout": {
        "template": {
         "data": {
          "barpolar": [
           {
            "marker": {
             "line": {
              "color": "white",
              "width": 0.5
             },
             "pattern": {
              "fillmode": "overlay",
              "size": 10,
              "solidity": 0.2
             }
            },
            "type": "barpolar"
           }
          ],
          "bar": [
           {
            "error_x": {
             "color": "#2a3f5f"
            },
            "error_y": {
             "color": "#2a3f5f"
            },
            "marker": {
             "line": {
              "color": "white",
              "width": 0.5
             },
             "pattern": {
              "fillmode": "overlay",
              "size": 10,
              "solidity": 0.2
             }
            },
            "type": "bar"
           }
          ],
          "carpet": [
           {
            "aaxis": {
             "endlinecolor": "#2a3f5f",
             "gridcolor": "#C8D4E3",
             "linecolor": "#C8D4E3",
             "minorgridcolor": "#C8D4E3",
             "startlinecolor": "#2a3f5f"
            },
            "baxis": {
             "endlinecolor": "#2a3f5f",
             "gridcolor": "#C8D4E3",
             "linecolor": "#C8D4E3",
             "minorgridcolor": "#C8D4E3",
             "startlinecolor": "#2a3f5f"
            },
            "type": "carpet"
           }
          ],
          "choropleth": [
           {
            "colorbar": {
             "outlinewidth": 0,
             "ticks": ""
            },
            "type": "choropleth"
           }
          ],
          "contourcarpet": [
           {
            "colorbar": {
             "outlinewidth": 0,
             "ticks": ""
            },
            "type": "contourcarpet"
           }
          ],
          "contour": [
           {
            "colorbar": {
             "outlinewidth": 0,
             "ticks": ""
            },
            "colorscale": [
             [
              0.0,
              "#0d0887"
             ],
             [
              0.1111111111111111,
              "#46039f"
             ],
             [
              0.2222222222222222,
              "#7201a8"
             ],
             [
              0.3333333333333333,
              "#9c179e"
             ],
             [
              0.4444444444444444,
              "#bd3786"
             ],
             [
              0.5555555555555556,
              "#d8576b"
             ],
             [
              0.6666666666666666,
              "#ed7953"
             ],
             [
              0.7777777777777778,
              "#fb9f3a"
             ],
             [
              0.8888888888888888,
              "#fdca26"
             ],
             [
              1.0,
              "#f0f921"
             ]
            ],
            "type": "contour"
           }
          ],
          "heatmap": [
           {
            "colorbar": {
             "outlinewidth": 0,
             "ticks": ""
            },
            "colorscale": [
             [
              0.0,
              "#0d0887"
             ],
             [
              0.1111111111111111,
              "#46039f"
             ],
             [
              0.2222222222222222,
              "#7201a8"
             ],
             [
              0.3333333333333333,
              "#9c179e"
             ],
             [
              0.4444444444444444,
              "#bd3786"
             ],
             [
              0.5555555555555556,
              "#d8576b"
             ],
             [
              0.6666666666666666,
              "#ed7953"
             ],
             [
              0.7777777777777778,
              "#fb9f3a"
             ],
             [
              0.8888888888888888,
              "#fdca26"
             ],
             [
              1.0,
              "#f0f921"
             ]
            ],
            "type": "heatmap"
           }
          ],
          "histogram2dcontour": [
           {
            "colorbar": {
             "outlinewidth": 0,
             "ticks": ""
            },
            "colorscale": [
             [
              0.0,
              "#0d0887"
             ],
             [
              0.1111111111111111,
              "#46039f"
             ],
             [
              0.2222222222222222,
              "#7201a8"
             ],
             [
              0.3333333333333333,
              "#9c179e"
             ],
             [
              0.4444444444444444,
              "#bd3786"
             ],
             [
              0.5555555555555556,
              "#d8576b"
             ],
             [
              0.6666666666666666,
              "#ed7953"
             ],
             [
              0.7777777777777778,
              "#fb9f3a"
             ],
             [
              0.8888888888888888,
              "#fdca26"
             ],
             [
              1.0,
              "#f0f921"
             ]
            ],
            "type": "histogram2dcontour"
           }
          ],
          "histogram2d": [
           {
            "colorbar": {
             "outlinewidth": 0,
             "ticks": ""
            },
            "colorscale": [
             [
              0.0,
              "#0d0887"
             ],
             [
              0.1111111111111111,
              "#46039f"
             ],
             [
              0.2222222222222222,
              "#7201a8"
             ],
             [
              0.3333333333333333,
              "#9c179e"
             ],
             [
              0.4444444444444444,
              "#bd3786"
             ],
             [
              0.5555555555555556,
              "#d8576b"
             ],
             [
              0.6666666666666666,
              "#ed7953"
             ],
             [
              0.7777777777777778,
              "#fb9f3a"
             ],
             [
              0.8888888888888888,
              "#fdca26"
             ],
             [
              1.0,
              "#f0f921"
             ]
            ],
            "type": "histogram2d"
           }
          ],
          "histogram": [
           {
            "marker": {
             "pattern": {
              "fillmode": "overlay",
              "size": 10,
              "solidity": 0.2
             }
            },
            "type": "histogram"
           }
          ],
          "mesh3d": [
           {
            "colorbar": {
             "outlinewidth": 0,
             "ticks": ""
            },
            "type": "mesh3d"
           }
          ],
          "parcoords": [
           {
            "line": {
             "colorbar": {
              "outlinewidth": 0,
              "ticks": ""
             }
            },
            "type": "parcoords"
           }
          ],
          "pie": [
           {
            "automargin": true,
            "type": "pie"
           }
          ],
          "scatter3d": [
           {
            "line": {
             "colorbar": {
              "outlinewidth": 0,
              "ticks": ""
             }
            },
            "marker": {
             "colorbar": {
              "outlinewidth": 0,
              "ticks": ""
             }
            },
            "type": "scatter3d"
           }
          ],
          "scattercarpet": [
           {
            "marker": {
             "colorbar": {
              "outlinewidth": 0,
              "ticks": ""
             }
            },
            "type": "scattercarpet"
           }
          ],
          "scattergeo": [
           {
            "marker": {
             "colorbar": {
              "outlinewidth": 0,
              "ticks": ""
             }
            },
            "type": "scattergeo"
           }
          ],
          "scattergl": [
           {
            "marker": {
             "colorbar": {
              "outlinewidth": 0,
              "ticks": ""
             }
            },
            "type": "scattergl"
           }
          ],
          "scattermapbox": [
           {
            "marker": {
             "colorbar": {
              "outlinewidth": 0,
              "ticks": ""
             }
            },
            "type": "scattermapbox"
           }
          ],
          "scattermap": [
           {
            "marker": {
             "colorbar": {
              "outlinewidth": 0,
              "ticks": ""
             }
            },
            "type": "scattermap"
           }
          ],
          "scatterpolargl": [
           {
            "marker": {
             "colorbar": {
              "outlinewidth": 0,
              "ticks": ""
             }
            },
            "type": "scatterpolargl"
           }
          ],
          "scatterpolar": [
           {
            "marker": {
             "colorbar": {
              "outlinewidth": 0,
              "ticks": ""
             }
            },
            "type": "scatterpolar"
           }
          ],
          "scatter": [
           {
            "fillpattern": {
             "fillmode": "overlay",
             "size": 10,
             "solidity": 0.2
            },
            "type": "scatter"
           }
          ],
          "scatterternary": [
           {
            "marker": {
             "colorbar": {
              "outlinewidth": 0,
              "ticks": ""
             }
            },
            "type": "scatterternary"
           }
          ],
          "surface": [
           {
            "colorbar": {
             "outlinewidth": 0,
             "ticks": ""
            },
            "colorscale": [
             [
              0.0,
              "#0d0887"
             ],
             [
              0.1111111111111111,
              "#46039f"
             ],
             [
              0.2222222222222222,
              "#7201a8"
             ],
             [
              0.3333333333333333,
              "#9c179e"
             ],
             [
              0.4444444444444444,
              "#bd3786"
             ],
             [
              0.5555555555555556,
              "#d8576b"
             ],
             [
              0.6666666666666666,
              "#ed7953"
             ],
             [
              0.7777777777777778,
              "#fb9f3a"
             ],
             [
              0.8888888888888888,
              "#fdca26"
             ],
             [
              1.0,
              "#f0f921"
             ]
            ],
            "type": "surface"
           }
          ],
          "table": [
           {
            "cells": {
             "fill": {
              "color": "#EBF0F8"
             },
             "line": {
              "color": "white"
             }
            },
            "header": {
             "fill": {
              "color": "#C8D4E3"
             },
             "line": {
              "color": "white"
             }
            },
            "type": "table"
           }
          ]
         },
         "layout": {
          "annotationdefaults": {
           "arrowcolor": "#2a3f5f",
           "arrowhead": 0,
           "arrowwidth": 1
          },
          "autotypenumbers": "strict",
          "coloraxis": {
           "colorbar": {
            "outlinewidth": 0,
            "ticks": ""
           }
          },
          "colorscale": {
           "diverging": [
            [
             0,
             "#8e0152"
            ],
            [
             0.1,
             "#c51b7d"
            ],
            [
             0.2,
             "#de77ae"
            ],
            [
             0.3,
             "#f1b6da"
            ],
            [
             0.4,
             "#fde0ef"
            ],
            [
             0.5,
             "#f7f7f7"
            ],
            [
             0.6,
             "#e6f5d0"
            ],
            [
             0.7,
             "#b8e186"
            ],
            [
             0.8,
             "#7fbc41"
            ],
            [
             0.9,
             "#4d9221"
            ],
            [
             1,
             "#276419"
            ]
           ],
           "sequential": [
            [
             0.0,
             "#0d0887"
            ],
            [
             0.1111111111111111,
             "#46039f"
            ],
            [
             0.2222222222222222,
             "#7201a8"
            ],
            [
             0.3333333333333333,
             "#9c179e"
            ],
            [
             0.4444444444444444,
             "#bd3786"
            ],
            [
             0.5555555555555556,
             "#d8576b"
            ],
            [
             0.6666666666666666,
             "#ed7953"
            ],
            [
             0.7777777777777778,
             "#fb9f3a"
            ],
            [
             0.8888888888888888,
             "#fdca26"
            ],
            [
             1.0,
             "#f0f921"
            ]
           ],
           "sequentialminus": [
            [
             0.0,
             "#0d0887"
            ],
            [
             0.1111111111111111,
             "#46039f"
            ],
            [
             0.2222222222222222,
             "#7201a8"
            ],
            [
             0.3333333333333333,
             "#9c179e"
            ],
            [
             0.4444444444444444,
             "#bd3786"
            ],
            [
             0.5555555555555556,
             "#d8576b"
            ],
            [
             0.6666666666666666,
             "#ed7953"
            ],
            [
             0.7777777777777778,
             "#fb9f3a"
            ],
            [
             0.8888888888888888,
             "#fdca26"
            ],
            [
             1.0,
             "#f0f921"
            ]
           ]
          },
          "colorway": [
           "#636efa",
           "#EF553B",
           "#00cc96",
           "#ab63fa",
           "#FFA15A",
           "#19d3f3",
           "#FF6692",
           "#B6E880",
           "#FF97FF",
           "#FECB52"
          ],
          "font": {
           "color": "#2a3f5f"
          },
          "geo": {
           "bgcolor": "white",
           "lakecolor": "white",
           "landcolor": "white",
           "showlakes": true,
           "showland": true,
           "subunitcolor": "#C8D4E3"
          },
          "hoverlabel": {
           "align": "left"
          },
          "hovermode": "closest",
          "mapbox": {
           "style": "light"
          },
          "paper_bgcolor": "white",
          "plot_bgcolor": "white",
          "polar": {
           "angularaxis": {
            "gridcolor": "#EBF0F8",
            "linecolor": "#EBF0F8",
            "ticks": ""
           },
           "bgcolor": "white",
           "radialaxis": {
            "gridcolor": "#EBF0F8",
            "linecolor": "#EBF0F8",
            "ticks": ""
           }
          },
          "scene": {
           "xaxis": {
            "backgroundcolor": "white",
            "gridcolor": "#DFE8F3",
            "gridwidth": 2,
            "linecolor": "#EBF0F8",
            "showbackground": true,
            "ticks": "",
            "zerolinecolor": "#EBF0F8"
           },
           "yaxis": {
            "backgroundcolor": "white",
            "gridcolor": "#DFE8F3",
            "gridwidth": 2,
            "linecolor": "#EBF0F8",
            "showbackground": true,
            "ticks": "",
            "zerolinecolor": "#EBF0F8"
           },
           "zaxis": {
            "backgroundcolor": "white",
            "gridcolor": "#DFE8F3",
            "gridwidth": 2,
            "linecolor": "#EBF0F8",
            "showbackground": true,
            "ticks": "",
            "zerolinecolor": "#EBF0F8"
           }
          },
          "shapedefaults": {
           "line": {
            "color": "#2a3f5f"
           }
          },
          "ternary": {
           "aaxis": {
            "gridcolor": "#DFE8F3",
            "linecolor": "#A2B1C6",
            "ticks": ""
           },
           "baxis": {
            "gridcolor": "#DFE8F3",
            "linecolor": "#A2B1C6",
            "ticks": ""
           },
           "bgcolor": "white",
           "caxis": {
            "gridcolor": "#DFE8F3",
            "linecolor": "#A2B1C6",
            "ticks": ""
           }
          },
          "title": {
           "x": 0.05
          },
          "xaxis": {
           "automargin": true,
           "gridcolor": "#EBF0F8",
           "linecolor": "#EBF0F8",
           "ticks": "",
           "title": {
            "standoff": 15
           },
           "zerolinecolor": "#EBF0F8",
           "zerolinewidth": 2
          },
          "yaxis": {
           "automargin": true,
           "gridcolor": "#EBF0F8",
           "linecolor": "#EBF0F8",
           "ticks": "",
           "title": {
            "standoff": 15
           },
           "zerolinecolor": "#EBF0F8",
           "zerolinewidth": 2
          }
         }
        },
        "updatemenus": [
         {
          "active": 0,
          "buttons": [
           {
            "args": [
             {
              "visible": [
               true,
               false,
               false,
               false,
               false
              ]
             },
             {
              "title": "Parking Usage by Month — 2020"
             }
            ],
            "label": "2020",
            "method": "update"
           },
           {
            "args": [
             {
              "visible": [
               false,
               true,
               false,
               false,
               false
              ]
             },
             {
              "title": "Parking Usage by Month — 2021"
             }
            ],
            "label": "2021",
            "method": "update"
           },
           {
            "args": [
             {
              "visible": [
               false,
               false,
               true,
               false,
               false
              ]
             },
             {
              "title": "Parking Usage by Month — 2022"
             }
            ],
            "label": "2022",
            "method": "update"
           },
           {
            "args": [
             {
              "visible": [
               false,
               false,
               false,
               true,
               false
              ]
             },
             {
              "title": "Parking Usage by Month — 2023"
             }
            ],
            "label": "2023",
            "method": "update"
           },
           {
            "args": [
             {
              "visible": [
               false,
               false,
               false,
               false,
               true
              ]
             },
             {
              "title": "Parking Usage by Month — 2024"
             }
            ],
            "label": "2024",
            "method": "update"
           }
          ],
          "direction": "right",
          "x": 0.5,
          "xanchor": "center",
          "y": 1.15,
          "yanchor": "top"
         }
        ],
        "title": {
         "text": "Parking Usage by Month — 2020"
        },
        "xaxis": {
         "title": {
          "text": "Month"
         }
        },
        "yaxis": {
         "title": {
          "text": "Number of Occupied Cars"
         }
        },
        "showlegend": false
       },
       "config": {
        "plotlyServerURL": "https://plot.ly"
       }
      }
     },
     "metadata": {},
     "output_type": "display_data"
    }
   ],
   "execution_count": 153
  },
  {
   "metadata": {
    "ExecuteTime": {
     "end_time": "2025-05-20T14:26:03.434150Z",
     "start_time": "2025-05-20T14:26:03.346171Z"
    }
   },
   "cell_type": "code",
   "source": "df",
   "id": "4963af52119d38bd",
   "outputs": [
    {
     "data": {
      "text/plain": [
       "         TransactionId  CardNumber  LotNumber  NoEntry  NoExit  Overnight  \\\n",
       "0             27608086       43976          3        0       0          0   \n",
       "1             27615712       18867         11        0       0          0   \n",
       "2             27615955       14512         21        0       1          0   \n",
       "3             27617648        3548         11        0       0          0   \n",
       "4             27620719       57888         24        0       0          0   \n",
       "...                ...         ...        ...      ...     ...        ...   \n",
       "2148599       19980652       11469         80        0       0          1   \n",
       "2148600       19990466       47122         80        0       0          0   \n",
       "2148601       20445002       63732         50        0       0          1   \n",
       "2148602       20083047       30722         13        0       0          0   \n",
       "2148603       20090273       39779         30        0       0          0   \n",
       "\n",
       "               EntranceTime            ExitTime  EffectiveGroupNumber  \\\n",
       "0       2024-02-07 08:00:14 2024-02-07 15:58:23                    47   \n",
       "1       2024-02-08 06:58:36 2024-02-08 08:19:16                    81   \n",
       "2       2024-02-07 10:02:49 2024-02-07 23:59:59                    24   \n",
       "3       2024-02-08 07:57:37 2024-02-08 11:49:23                    72   \n",
       "4       2024-02-08 07:44:00 2024-02-08 16:30:57                    33   \n",
       "...                     ...                 ...                   ...   \n",
       "2148599 2021-08-01 18:46:37 2021-08-02 07:37:30                    81   \n",
       "2148600 2021-07-14 06:57:29 2021-07-14 19:37:02                    81   \n",
       "2148601 2021-09-22 15:52:08 2021-09-23 00:34:44                    80   \n",
       "2148602 2021-08-12 06:41:56 2021-08-12 16:38:15                    37   \n",
       "2148603 2021-08-13 07:21:56 2021-08-13 15:37:19                    56   \n",
       "\n",
       "        EntranceDate  Hour       TimeSlot       Date EntranceTimeSlot  \\\n",
       "0         2024-02-07     8  08:00 - 09:00 2024-02-07    08:00 - 09:00   \n",
       "1         2024-02-08     6  06:00 - 07:00 2024-02-08    06:00 - 07:00   \n",
       "2         2024-02-07    10  10:00 - 11:00 2024-02-07    10:00 - 11:00   \n",
       "3         2024-02-08     7  07:00 - 08:00 2024-02-08    07:00 - 08:00   \n",
       "4         2024-02-08     7  07:00 - 08:00 2024-02-08    07:00 - 08:00   \n",
       "...              ...   ...            ...        ...              ...   \n",
       "2148599   2021-08-01    18  18:00 - 19:00 2021-08-01    18:00 - 19:00   \n",
       "2148600   2021-07-14     6  06:00 - 07:00 2021-07-14    06:00 - 07:00   \n",
       "2148601   2021-09-22    15  15:00 - 16:00 2021-09-22    15:00 - 16:00   \n",
       "2148602   2021-08-12     6  06:00 - 07:00 2021-08-12    06:00 - 07:00   \n",
       "2148603   2021-08-13     7  07:00 - 08:00 2021-08-13    07:00 - 08:00   \n",
       "\n",
       "              Week    Weekday  Year  Month  PeakUsage  \n",
       "0       2024-02-05  Wednesday  2024      2        189  \n",
       "1       2024-02-05   Thursday  2024      2        337  \n",
       "2       2024-02-05  Wednesday  2024      2         72  \n",
       "3       2024-02-05   Thursday  2024      2        337  \n",
       "4       2024-02-05   Thursday  2024      2         50  \n",
       "...            ...        ...   ...    ...        ...  \n",
       "2148599 2021-07-26     Sunday  2021      8        144  \n",
       "2148600 2021-07-12  Wednesday  2021      7        142  \n",
       "2148601 2021-09-20  Wednesday  2021      9        138  \n",
       "2148602 2021-08-09   Thursday  2021      8         62  \n",
       "2148603 2021-08-09     Friday  2021      8         76  \n",
       "\n",
       "[2148604 rows x 19 columns]"
      ],
      "text/html": [
       "<div>\n",
       "<style scoped>\n",
       "    .dataframe tbody tr th:only-of-type {\n",
       "        vertical-align: middle;\n",
       "    }\n",
       "\n",
       "    .dataframe tbody tr th {\n",
       "        vertical-align: top;\n",
       "    }\n",
       "\n",
       "    .dataframe thead th {\n",
       "        text-align: right;\n",
       "    }\n",
       "</style>\n",
       "<table border=\"1\" class=\"dataframe\">\n",
       "  <thead>\n",
       "    <tr style=\"text-align: right;\">\n",
       "      <th></th>\n",
       "      <th>TransactionId</th>\n",
       "      <th>CardNumber</th>\n",
       "      <th>LotNumber</th>\n",
       "      <th>NoEntry</th>\n",
       "      <th>NoExit</th>\n",
       "      <th>Overnight</th>\n",
       "      <th>EntranceTime</th>\n",
       "      <th>ExitTime</th>\n",
       "      <th>EffectiveGroupNumber</th>\n",
       "      <th>EntranceDate</th>\n",
       "      <th>Hour</th>\n",
       "      <th>TimeSlot</th>\n",
       "      <th>Date</th>\n",
       "      <th>EntranceTimeSlot</th>\n",
       "      <th>Week</th>\n",
       "      <th>Weekday</th>\n",
       "      <th>Year</th>\n",
       "      <th>Month</th>\n",
       "      <th>PeakUsage</th>\n",
       "    </tr>\n",
       "  </thead>\n",
       "  <tbody>\n",
       "    <tr>\n",
       "      <th>0</th>\n",
       "      <td>27608086</td>\n",
       "      <td>43976</td>\n",
       "      <td>3</td>\n",
       "      <td>0</td>\n",
       "      <td>0</td>\n",
       "      <td>0</td>\n",
       "      <td>2024-02-07 08:00:14</td>\n",
       "      <td>2024-02-07 15:58:23</td>\n",
       "      <td>47</td>\n",
       "      <td>2024-02-07</td>\n",
       "      <td>8</td>\n",
       "      <td>08:00 - 09:00</td>\n",
       "      <td>2024-02-07</td>\n",
       "      <td>08:00 - 09:00</td>\n",
       "      <td>2024-02-05</td>\n",
       "      <td>Wednesday</td>\n",
       "      <td>2024</td>\n",
       "      <td>2</td>\n",
       "      <td>189</td>\n",
       "    </tr>\n",
       "    <tr>\n",
       "      <th>1</th>\n",
       "      <td>27615712</td>\n",
       "      <td>18867</td>\n",
       "      <td>11</td>\n",
       "      <td>0</td>\n",
       "      <td>0</td>\n",
       "      <td>0</td>\n",
       "      <td>2024-02-08 06:58:36</td>\n",
       "      <td>2024-02-08 08:19:16</td>\n",
       "      <td>81</td>\n",
       "      <td>2024-02-08</td>\n",
       "      <td>6</td>\n",
       "      <td>06:00 - 07:00</td>\n",
       "      <td>2024-02-08</td>\n",
       "      <td>06:00 - 07:00</td>\n",
       "      <td>2024-02-05</td>\n",
       "      <td>Thursday</td>\n",
       "      <td>2024</td>\n",
       "      <td>2</td>\n",
       "      <td>337</td>\n",
       "    </tr>\n",
       "    <tr>\n",
       "      <th>2</th>\n",
       "      <td>27615955</td>\n",
       "      <td>14512</td>\n",
       "      <td>21</td>\n",
       "      <td>0</td>\n",
       "      <td>1</td>\n",
       "      <td>0</td>\n",
       "      <td>2024-02-07 10:02:49</td>\n",
       "      <td>2024-02-07 23:59:59</td>\n",
       "      <td>24</td>\n",
       "      <td>2024-02-07</td>\n",
       "      <td>10</td>\n",
       "      <td>10:00 - 11:00</td>\n",
       "      <td>2024-02-07</td>\n",
       "      <td>10:00 - 11:00</td>\n",
       "      <td>2024-02-05</td>\n",
       "      <td>Wednesday</td>\n",
       "      <td>2024</td>\n",
       "      <td>2</td>\n",
       "      <td>72</td>\n",
       "    </tr>\n",
       "    <tr>\n",
       "      <th>3</th>\n",
       "      <td>27617648</td>\n",
       "      <td>3548</td>\n",
       "      <td>11</td>\n",
       "      <td>0</td>\n",
       "      <td>0</td>\n",
       "      <td>0</td>\n",
       "      <td>2024-02-08 07:57:37</td>\n",
       "      <td>2024-02-08 11:49:23</td>\n",
       "      <td>72</td>\n",
       "      <td>2024-02-08</td>\n",
       "      <td>7</td>\n",
       "      <td>07:00 - 08:00</td>\n",
       "      <td>2024-02-08</td>\n",
       "      <td>07:00 - 08:00</td>\n",
       "      <td>2024-02-05</td>\n",
       "      <td>Thursday</td>\n",
       "      <td>2024</td>\n",
       "      <td>2</td>\n",
       "      <td>337</td>\n",
       "    </tr>\n",
       "    <tr>\n",
       "      <th>4</th>\n",
       "      <td>27620719</td>\n",
       "      <td>57888</td>\n",
       "      <td>24</td>\n",
       "      <td>0</td>\n",
       "      <td>0</td>\n",
       "      <td>0</td>\n",
       "      <td>2024-02-08 07:44:00</td>\n",
       "      <td>2024-02-08 16:30:57</td>\n",
       "      <td>33</td>\n",
       "      <td>2024-02-08</td>\n",
       "      <td>7</td>\n",
       "      <td>07:00 - 08:00</td>\n",
       "      <td>2024-02-08</td>\n",
       "      <td>07:00 - 08:00</td>\n",
       "      <td>2024-02-05</td>\n",
       "      <td>Thursday</td>\n",
       "      <td>2024</td>\n",
       "      <td>2</td>\n",
       "      <td>50</td>\n",
       "    </tr>\n",
       "    <tr>\n",
       "      <th>...</th>\n",
       "      <td>...</td>\n",
       "      <td>...</td>\n",
       "      <td>...</td>\n",
       "      <td>...</td>\n",
       "      <td>...</td>\n",
       "      <td>...</td>\n",
       "      <td>...</td>\n",
       "      <td>...</td>\n",
       "      <td>...</td>\n",
       "      <td>...</td>\n",
       "      <td>...</td>\n",
       "      <td>...</td>\n",
       "      <td>...</td>\n",
       "      <td>...</td>\n",
       "      <td>...</td>\n",
       "      <td>...</td>\n",
       "      <td>...</td>\n",
       "      <td>...</td>\n",
       "      <td>...</td>\n",
       "    </tr>\n",
       "    <tr>\n",
       "      <th>2148599</th>\n",
       "      <td>19980652</td>\n",
       "      <td>11469</td>\n",
       "      <td>80</td>\n",
       "      <td>0</td>\n",
       "      <td>0</td>\n",
       "      <td>1</td>\n",
       "      <td>2021-08-01 18:46:37</td>\n",
       "      <td>2021-08-02 07:37:30</td>\n",
       "      <td>81</td>\n",
       "      <td>2021-08-01</td>\n",
       "      <td>18</td>\n",
       "      <td>18:00 - 19:00</td>\n",
       "      <td>2021-08-01</td>\n",
       "      <td>18:00 - 19:00</td>\n",
       "      <td>2021-07-26</td>\n",
       "      <td>Sunday</td>\n",
       "      <td>2021</td>\n",
       "      <td>8</td>\n",
       "      <td>144</td>\n",
       "    </tr>\n",
       "    <tr>\n",
       "      <th>2148600</th>\n",
       "      <td>19990466</td>\n",
       "      <td>47122</td>\n",
       "      <td>80</td>\n",
       "      <td>0</td>\n",
       "      <td>0</td>\n",
       "      <td>0</td>\n",
       "      <td>2021-07-14 06:57:29</td>\n",
       "      <td>2021-07-14 19:37:02</td>\n",
       "      <td>81</td>\n",
       "      <td>2021-07-14</td>\n",
       "      <td>6</td>\n",
       "      <td>06:00 - 07:00</td>\n",
       "      <td>2021-07-14</td>\n",
       "      <td>06:00 - 07:00</td>\n",
       "      <td>2021-07-12</td>\n",
       "      <td>Wednesday</td>\n",
       "      <td>2021</td>\n",
       "      <td>7</td>\n",
       "      <td>142</td>\n",
       "    </tr>\n",
       "    <tr>\n",
       "      <th>2148601</th>\n",
       "      <td>20445002</td>\n",
       "      <td>63732</td>\n",
       "      <td>50</td>\n",
       "      <td>0</td>\n",
       "      <td>0</td>\n",
       "      <td>1</td>\n",
       "      <td>2021-09-22 15:52:08</td>\n",
       "      <td>2021-09-23 00:34:44</td>\n",
       "      <td>80</td>\n",
       "      <td>2021-09-22</td>\n",
       "      <td>15</td>\n",
       "      <td>15:00 - 16:00</td>\n",
       "      <td>2021-09-22</td>\n",
       "      <td>15:00 - 16:00</td>\n",
       "      <td>2021-09-20</td>\n",
       "      <td>Wednesday</td>\n",
       "      <td>2021</td>\n",
       "      <td>9</td>\n",
       "      <td>138</td>\n",
       "    </tr>\n",
       "    <tr>\n",
       "      <th>2148602</th>\n",
       "      <td>20083047</td>\n",
       "      <td>30722</td>\n",
       "      <td>13</td>\n",
       "      <td>0</td>\n",
       "      <td>0</td>\n",
       "      <td>0</td>\n",
       "      <td>2021-08-12 06:41:56</td>\n",
       "      <td>2021-08-12 16:38:15</td>\n",
       "      <td>37</td>\n",
       "      <td>2021-08-12</td>\n",
       "      <td>6</td>\n",
       "      <td>06:00 - 07:00</td>\n",
       "      <td>2021-08-12</td>\n",
       "      <td>06:00 - 07:00</td>\n",
       "      <td>2021-08-09</td>\n",
       "      <td>Thursday</td>\n",
       "      <td>2021</td>\n",
       "      <td>8</td>\n",
       "      <td>62</td>\n",
       "    </tr>\n",
       "    <tr>\n",
       "      <th>2148603</th>\n",
       "      <td>20090273</td>\n",
       "      <td>39779</td>\n",
       "      <td>30</td>\n",
       "      <td>0</td>\n",
       "      <td>0</td>\n",
       "      <td>0</td>\n",
       "      <td>2021-08-13 07:21:56</td>\n",
       "      <td>2021-08-13 15:37:19</td>\n",
       "      <td>56</td>\n",
       "      <td>2021-08-13</td>\n",
       "      <td>7</td>\n",
       "      <td>07:00 - 08:00</td>\n",
       "      <td>2021-08-13</td>\n",
       "      <td>07:00 - 08:00</td>\n",
       "      <td>2021-08-09</td>\n",
       "      <td>Friday</td>\n",
       "      <td>2021</td>\n",
       "      <td>8</td>\n",
       "      <td>76</td>\n",
       "    </tr>\n",
       "  </tbody>\n",
       "</table>\n",
       "<p>2148604 rows × 19 columns</p>\n",
       "</div>"
      ]
     },
     "execution_count": 162,
     "metadata": {},
     "output_type": "execute_result"
    }
   ],
   "execution_count": 162
  },
  {
   "metadata": {
    "ExecuteTime": {
     "end_time": "2025-05-20T14:31:36.948865Z",
     "start_time": "2025-05-20T14:31:27.496364Z"
    }
   },
   "cell_type": "code",
   "source": "df.to_csv('/Users/sijieliu/Desktop/Data Practice/df.csv')",
   "id": "60f73177190ce45e",
   "outputs": [],
   "execution_count": 163
  },
  {
   "metadata": {},
   "cell_type": "markdown",
   "source": "#### From the monthly parking trends of each year, we can see that June and July are relatively less busy. After July, the parking time increases. This is consistent with the fact that July is the move-in date for students.",
   "id": "7f1d46929520714b"
  },
  {
   "metadata": {},
   "cell_type": "markdown",
   "source": "## Forecasting for the future 2025\n",
   "id": "b1625d3c206fe5da"
  },
  {
   "metadata": {
    "ExecuteTime": {
     "end_time": "2025-05-20T04:07:52.702515Z",
     "start_time": "2025-05-20T04:05:26.410946Z"
    }
   },
   "cell_type": "code",
   "source": [
    "time_grid = pd.date_range(\n",
    "    start=df['EntranceTime'].min().floor('D'),\n",
    "    end=df['ExitTime'].max().ceil('D'),\n",
    "    freq='1h'\n",
    ")\n",
    "\n",
    "records = []\n",
    "\n",
    "for time_point in time_grid:\n",
    "    active = df[(df['EntranceTime'] <= time_point) & (df['ExitTime'] > time_point)]\n",
    "    usage_by_lot = active.groupby('LotNumber')['CardNumber'].nunique().reset_index(name='Occupied')\n",
    "    usage_by_lot['Time'] = time_point\n",
    "    records.append(usage_by_lot)\n",
    "\n",
    "occupancy_df = pd.concat(records)\n",
    "\n",
    "occupancy_df['Year'] = occupancy_df['Time'].dt.year\n",
    "occupancy_df['Month'] = occupancy_df['Time'].dt.month\n",
    "\n",
    "monthly_peak_usage = occupancy_df.groupby(['LotNumber', 'Year', 'Month'])['Occupied'].max().reset_index()\n",
    "monthly_peak_usage = monthly_peak_usage.rename(columns={'Occupied': 'PeakUsage'})\n",
    "\n",
    "df = df.merge(\n",
    "    monthly_peak_usage,\n",
    "    on=['LotNumber', 'Year', 'Month'],\n",
    "    how='left'\n",
    ")"
   ],
   "id": "feee01d4d0734035",
   "outputs": [],
   "execution_count": 155
  },
  {
   "metadata": {},
   "cell_type": "code",
   "outputs": [],
   "execution_count": null,
   "source": "grouped_df = monthly_lot_usage_df.groupby(['LotNumber', 'Year', 'Month'])['PeakUsage'].sum().reset_index()\n",
   "id": "afd0b96a84556dfd"
  },
  {
   "metadata": {},
   "cell_type": "markdown",
   "source": [
    "#### After obtaining the monthly time series data for each parking lot, I plan to apply SARIMA to analyze the monthly patterns, incorporating variables such as holidays and academic calendar cycles into a regression-based modeling approach, with weekly fluctuations serving as auxiliary predictors to enhance forecasting accuracy.\n",
    "#### Since the peak usage of parking lots shows a consistent trend across previous years, I expect a similar increase in peak usage to occur from August to December in 2025."
   ],
   "id": "57b5f91ff3c89e74"
  }
 ],
 "metadata": {
  "kernelspec": {
   "display_name": "Python 3",
   "language": "python",
   "name": "python3"
  },
  "language_info": {
   "codemirror_mode": {
    "name": "ipython",
    "version": 2
   },
   "file_extension": ".py",
   "mimetype": "text/x-python",
   "name": "python",
   "nbconvert_exporter": "python",
   "pygments_lexer": "ipython2",
   "version": "2.7.6"
  }
 },
 "nbformat": 4,
 "nbformat_minor": 5
}
